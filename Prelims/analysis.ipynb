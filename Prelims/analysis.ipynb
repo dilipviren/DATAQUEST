{
 "cells": [
  {
   "cell_type": "code",
   "execution_count": 2,
   "id": "1b595570",
   "metadata": {},
   "outputs": [],
   "source": [
    "import pandas as pd\n",
    "import numpy as np\n",
    "import matplotlib.pyplot as plt\n",
    "import seaborn as sns\n",
    "%matplotlib inline"
   ]
  },
  {
   "cell_type": "code",
   "execution_count": 3,
   "id": "9383c2e7",
   "metadata": {},
   "outputs": [],
   "source": [
    "df = pd.read_csv('data_deltas.csv',index_col=0)"
   ]
  },
  {
   "cell_type": "code",
   "execution_count": 4,
   "id": "b62a2250",
   "metadata": {},
   "outputs": [
    {
     "data": {
      "text/html": [
       "<div>\n",
       "<style scoped>\n",
       "    .dataframe tbody tr th:only-of-type {\n",
       "        vertical-align: middle;\n",
       "    }\n",
       "\n",
       "    .dataframe tbody tr th {\n",
       "        vertical-align: top;\n",
       "    }\n",
       "\n",
       "    .dataframe thead th {\n",
       "        text-align: right;\n",
       "    }\n",
       "</style>\n",
       "<table border=\"1\" class=\"dataframe\">\n",
       "  <thead>\n",
       "    <tr style=\"text-align: right;\">\n",
       "      <th></th>\n",
       "      <th>ID</th>\n",
       "      <th>Treatment</th>\n",
       "      <th>Gender</th>\n",
       "      <th>Visit</th>\n",
       "      <th>Age</th>\n",
       "      <th>BMI</th>\n",
       "      <th>weight</th>\n",
       "      <th>Race</th>\n",
       "      <th>Country</th>\n",
       "      <th>UCS</th>\n",
       "      <th>...</th>\n",
       "      <th>delweight3</th>\n",
       "      <th>delUCS1</th>\n",
       "      <th>delUCS2</th>\n",
       "      <th>delUCS3</th>\n",
       "      <th>delECS1</th>\n",
       "      <th>delECS2</th>\n",
       "      <th>delECS3</th>\n",
       "      <th>delRCS1</th>\n",
       "      <th>delRCS2</th>\n",
       "      <th>delRCS3</th>\n",
       "    </tr>\n",
       "  </thead>\n",
       "  <tbody>\n",
       "    <tr>\n",
       "      <th>0</th>\n",
       "      <td>1</td>\n",
       "      <td>A</td>\n",
       "      <td>Male</td>\n",
       "      <td>0</td>\n",
       "      <td>14</td>\n",
       "      <td>28.296901</td>\n",
       "      <td>121.403843</td>\n",
       "      <td>Caucasian</td>\n",
       "      <td>USA</td>\n",
       "      <td>17.189710</td>\n",
       "      <td>...</td>\n",
       "      <td>-35.626737</td>\n",
       "      <td>-3.933703</td>\n",
       "      <td>-6.261494</td>\n",
       "      <td>-8.732289</td>\n",
       "      <td>0.316057</td>\n",
       "      <td>-1.271781</td>\n",
       "      <td>-4.462381</td>\n",
       "      <td>-0.562701</td>\n",
       "      <td>-2.005534</td>\n",
       "      <td>-5.063896</td>\n",
       "    </tr>\n",
       "    <tr>\n",
       "      <th>1</th>\n",
       "      <td>2</td>\n",
       "      <td>A</td>\n",
       "      <td>Male</td>\n",
       "      <td>0</td>\n",
       "      <td>17</td>\n",
       "      <td>27.437996</td>\n",
       "      <td>123.189625</td>\n",
       "      <td>Asian</td>\n",
       "      <td>China</td>\n",
       "      <td>15.371139</td>\n",
       "      <td>...</td>\n",
       "      <td>-37.479454</td>\n",
       "      <td>-2.060509</td>\n",
       "      <td>-4.999746</td>\n",
       "      <td>-7.270702</td>\n",
       "      <td>-2.209541</td>\n",
       "      <td>-2.799407</td>\n",
       "      <td>-7.402028</td>\n",
       "      <td>-4.284766</td>\n",
       "      <td>-4.966430</td>\n",
       "      <td>-5.800537</td>\n",
       "    </tr>\n",
       "    <tr>\n",
       "      <th>2</th>\n",
       "      <td>3</td>\n",
       "      <td>A</td>\n",
       "      <td>Male</td>\n",
       "      <td>0</td>\n",
       "      <td>14</td>\n",
       "      <td>27.031513</td>\n",
       "      <td>121.944314</td>\n",
       "      <td>Latin American</td>\n",
       "      <td>Brazil</td>\n",
       "      <td>16.438826</td>\n",
       "      <td>...</td>\n",
       "      <td>-36.772465</td>\n",
       "      <td>-3.614057</td>\n",
       "      <td>-7.231496</td>\n",
       "      <td>-6.528457</td>\n",
       "      <td>-3.486566</td>\n",
       "      <td>-4.666462</td>\n",
       "      <td>-6.197926</td>\n",
       "      <td>0.138239</td>\n",
       "      <td>-2.815101</td>\n",
       "      <td>-4.612538</td>\n",
       "    </tr>\n",
       "    <tr>\n",
       "      <th>3</th>\n",
       "      <td>4</td>\n",
       "      <td>A</td>\n",
       "      <td>Male</td>\n",
       "      <td>0</td>\n",
       "      <td>17</td>\n",
       "      <td>26.222483</td>\n",
       "      <td>121.478258</td>\n",
       "      <td>African</td>\n",
       "      <td>Cook Islands</td>\n",
       "      <td>16.065062</td>\n",
       "      <td>...</td>\n",
       "      <td>-37.473124</td>\n",
       "      <td>-4.116454</td>\n",
       "      <td>-6.243020</td>\n",
       "      <td>-5.683841</td>\n",
       "      <td>-2.939516</td>\n",
       "      <td>-2.813163</td>\n",
       "      <td>-6.363154</td>\n",
       "      <td>-3.224637</td>\n",
       "      <td>-3.589701</td>\n",
       "      <td>-4.862849</td>\n",
       "    </tr>\n",
       "    <tr>\n",
       "      <th>4</th>\n",
       "      <td>5</td>\n",
       "      <td>A</td>\n",
       "      <td>Male</td>\n",
       "      <td>0</td>\n",
       "      <td>18</td>\n",
       "      <td>26.432980</td>\n",
       "      <td>118.610875</td>\n",
       "      <td>Asian</td>\n",
       "      <td>China</td>\n",
       "      <td>17.219120</td>\n",
       "      <td>...</td>\n",
       "      <td>-39.962172</td>\n",
       "      <td>-3.192134</td>\n",
       "      <td>-6.100859</td>\n",
       "      <td>-8.300085</td>\n",
       "      <td>-3.515449</td>\n",
       "      <td>-4.611292</td>\n",
       "      <td>-7.963958</td>\n",
       "      <td>-2.368702</td>\n",
       "      <td>-3.732605</td>\n",
       "      <td>-3.638673</td>\n",
       "    </tr>\n",
       "  </tbody>\n",
       "</table>\n",
       "<p>5 rows × 43 columns</p>\n",
       "</div>"
      ],
      "text/plain": [
       "   ID Treatment Gender  Visit  Age        BMI      weight            Race  \\\n",
       "0   1         A   Male      0   14  28.296901  121.403843       Caucasian   \n",
       "1   2         A   Male      0   17  27.437996  123.189625           Asian   \n",
       "2   3         A   Male      0   14  27.031513  121.944314  Latin American   \n",
       "3   4         A   Male      0   17  26.222483  121.478258         African   \n",
       "4   5         A   Male      0   18  26.432980  118.610875           Asian   \n",
       "\n",
       "        Country        UCS  ...  delweight3   delUCS1   delUCS2   delUCS3  \\\n",
       "0           USA  17.189710  ...  -35.626737 -3.933703 -6.261494 -8.732289   \n",
       "1         China  15.371139  ...  -37.479454 -2.060509 -4.999746 -7.270702   \n",
       "2        Brazil  16.438826  ...  -36.772465 -3.614057 -7.231496 -6.528457   \n",
       "3  Cook Islands  16.065062  ...  -37.473124 -4.116454 -6.243020 -5.683841   \n",
       "4         China  17.219120  ...  -39.962172 -3.192134 -6.100859 -8.300085   \n",
       "\n",
       "    delECS1   delECS2   delECS3   delRCS1   delRCS2   delRCS3  \n",
       "0  0.316057 -1.271781 -4.462381 -0.562701 -2.005534 -5.063896  \n",
       "1 -2.209541 -2.799407 -7.402028 -4.284766 -4.966430 -5.800537  \n",
       "2 -3.486566 -4.666462 -6.197926  0.138239 -2.815101 -4.612538  \n",
       "3 -2.939516 -2.813163 -6.363154 -3.224637 -3.589701 -4.862849  \n",
       "4 -3.515449 -4.611292 -7.963958 -2.368702 -3.732605 -3.638673  \n",
       "\n",
       "[5 rows x 43 columns]"
      ]
     },
     "execution_count": 4,
     "metadata": {},
     "output_type": "execute_result"
    }
   ],
   "source": [
    "df.head()"
   ]
  },
  {
   "cell_type": "code",
   "execution_count": 5,
   "id": "f35f74d1",
   "metadata": {},
   "outputs": [],
   "source": [
    "ndf = df.drop(['ID','Treatment','Visit'],axis=1)"
   ]
  },
  {
   "cell_type": "code",
   "execution_count": null,
   "id": "25b3bd92",
   "metadata": {},
   "outputs": [],
   "source": [
    "\n"
   ]
  },
  {
   "cell_type": "code",
   "execution_count": 6,
   "id": "ded44861",
   "metadata": {},
   "outputs": [],
   "source": [
    "indicator_vars = pd.get_dummies(ndf)"
   ]
  },
  {
   "cell_type": "raw",
   "id": "51139c68",
   "metadata": {},
   "source": []
  },
  {
   "cell_type": "code",
   "execution_count": 7,
   "id": "c6d6d581",
   "metadata": {},
   "outputs": [
    {
     "data": {
      "text/plain": [
       "Index(['Age', 'BMI', 'weight', 'UCS', 'ECS', 'RCS', 'MedIncome', 'BMI1',\n",
       "       'BMI2', 'BMI3', 'weight1', 'weight2', 'weight3', 'UCS1', 'UCS2', 'UCS3',\n",
       "       'ECS1', 'ECS2', 'ECS3', 'RCS1', 'RCS2', 'RCS3', 'delBMI1', 'delBMI2',\n",
       "       'delBMI3', 'delweight1', 'delweight2', 'delweight3', 'delUCS1',\n",
       "       'delUCS2', 'delUCS3', 'delECS1', 'delECS2', 'delECS3', 'delRCS1',\n",
       "       'delRCS2', 'delRCS3', 'Gender_Female', 'Gender_Male', 'Race_African',\n",
       "       'Race_Asian', 'Race_Caucasian', 'Race_Hispanic', 'Race_Latin American',\n",
       "       'Country_Brazil', 'Country_China', 'Country_Cook Islands',\n",
       "       'Country_Mexico', 'Country_USA'],\n",
       "      dtype='object')"
      ]
     },
     "execution_count": 7,
     "metadata": {},
     "output_type": "execute_result"
    }
   ],
   "source": [
    "indicator_vars.columns"
   ]
  },
  {
   "cell_type": "code",
   "execution_count": 8,
   "id": "18e3719c",
   "metadata": {},
   "outputs": [],
   "source": [
    "idf = indicator_vars"
   ]
  },
  {
   "cell_type": "code",
   "execution_count": 9,
   "id": "d317b01d",
   "metadata": {},
   "outputs": [],
   "source": [
    "idf.drop(['Age','BMI', 'weight', 'UCS', 'ECS', 'RCS', 'BMI1','Gender_Female', 'Gender_Male',\n",
    "       'BMI2', 'BMI3', 'weight1', 'weight2', 'weight3', 'UCS1', 'UCS2', 'UCS3',\n",
    "       'ECS1', 'ECS2', 'ECS3', 'RCS1', 'RCS2', 'RCS3','Race_Asian', 'Race_Caucasian',\n",
    "       'Race_Hispanic', 'Race_Latin American',\n",
    "       'Country_Brazil', 'Country_China', 'Country_Cook Islands',\n",
    "       'Country_Mexico', 'Country_USA', 'Race_African','MedIncome'],axis=1,inplace=True)"
   ]
  },
  {
   "cell_type": "code",
   "execution_count": 10,
   "id": "6888b157",
   "metadata": {},
   "outputs": [
    {
     "data": {
      "text/plain": [
       "Index(['delBMI1', 'delBMI2', 'delBMI3', 'delweight1', 'delweight2',\n",
       "       'delweight3', 'delUCS1', 'delUCS2', 'delUCS3', 'delECS1', 'delECS2',\n",
       "       'delECS3', 'delRCS1', 'delRCS2', 'delRCS3'],\n",
       "      dtype='object')"
      ]
     },
     "execution_count": 10,
     "metadata": {},
     "output_type": "execute_result"
    }
   ],
   "source": [
    "idf.columns"
   ]
  },
  {
   "cell_type": "code",
   "execution_count": 11,
   "id": "b277cda5",
   "metadata": {},
   "outputs": [],
   "source": [
    "from sklearn.cluster import KMeans\n",
    "kmeans = KMeans(n_clusters = 2)"
   ]
  },
  {
   "cell_type": "code",
   "execution_count": 12,
   "id": "da208cd3",
   "metadata": {},
   "outputs": [
    {
     "data": {
      "text/plain": [
       "KMeans(n_clusters=2)"
      ]
     },
     "execution_count": 12,
     "metadata": {},
     "output_type": "execute_result"
    }
   ],
   "source": [
    "kmeans.fit(idf)"
   ]
  },
  {
   "cell_type": "code",
   "execution_count": 13,
   "id": "5255cd9b",
   "metadata": {},
   "outputs": [],
   "source": [
    "labels = kmeans.labels_"
   ]
  },
  {
   "cell_type": "code",
   "execution_count": 14,
   "id": "73456224",
   "metadata": {},
   "outputs": [
    {
     "data": {
      "text/plain": [
       "array([1, 1, 1, 1, 1, 1, 1, 1, 1, 1, 1, 1, 1, 1, 1, 1, 1, 1, 1, 1, 1, 1,\n",
       "       1, 1, 1, 1, 1, 1, 1, 1, 1, 1, 1, 1, 1, 1, 1, 1, 1, 1, 1, 1, 1, 1,\n",
       "       1, 1, 1, 1, 1, 1, 1, 1, 1, 1, 1, 1, 1, 1, 1, 1, 1, 1, 1, 1, 1, 1,\n",
       "       1, 1, 1, 1, 1, 1, 1, 1, 1, 1, 1, 1, 1, 1, 1, 1, 1, 1, 1, 1, 1, 1,\n",
       "       1, 1, 1, 1, 1, 1, 1, 1, 1, 1, 1, 1, 1, 1, 1, 1, 1, 1, 1, 1, 1, 1,\n",
       "       1, 1, 1, 1, 1, 1, 1, 1, 1, 1, 1, 1, 1, 1, 1, 1, 1, 1, 1, 1, 1, 1,\n",
       "       1, 1, 1, 1, 1, 1, 1, 1, 1, 1, 1, 1, 1, 1, 1, 1, 1, 1, 1, 1, 1, 1,\n",
       "       1, 1, 1, 1, 1, 1, 1, 1, 1, 1, 1, 1, 1, 1, 1, 1, 1, 1, 1, 1, 1, 1,\n",
       "       1, 1, 1, 1, 1, 1, 1, 1, 0, 1, 1, 1, 0, 1, 1, 1, 1, 1, 1, 1, 1, 1,\n",
       "       0, 1, 0, 1, 1, 1, 1, 1, 1, 1, 1, 1, 1, 1, 1, 1, 1, 1, 1, 1, 1, 1,\n",
       "       1, 1, 1, 1, 1, 1, 1, 1, 1, 1, 1, 1, 1, 1, 1, 1, 1, 1, 1, 1, 1, 1,\n",
       "       1, 1, 1, 1, 1, 1, 1, 1], dtype=int32)"
      ]
     },
     "execution_count": 14,
     "metadata": {},
     "output_type": "execute_result"
    }
   ],
   "source": [
    "labels"
   ]
  },
  {
   "cell_type": "code",
   "execution_count": 15,
   "id": "720eb5c9",
   "metadata": {},
   "outputs": [],
   "source": [
    "result = pd.DataFrame(labels)"
   ]
  },
  {
   "cell_type": "code",
   "execution_count": 16,
   "id": "72b6048c",
   "metadata": {},
   "outputs": [
    {
     "data": {
      "text/html": [
       "<div>\n",
       "<style scoped>\n",
       "    .dataframe tbody tr th:only-of-type {\n",
       "        vertical-align: middle;\n",
       "    }\n",
       "\n",
       "    .dataframe tbody tr th {\n",
       "        vertical-align: top;\n",
       "    }\n",
       "\n",
       "    .dataframe thead th {\n",
       "        text-align: right;\n",
       "    }\n",
       "</style>\n",
       "<table border=\"1\" class=\"dataframe\">\n",
       "  <thead>\n",
       "    <tr style=\"text-align: right;\">\n",
       "      <th></th>\n",
       "      <th>0</th>\n",
       "    </tr>\n",
       "  </thead>\n",
       "  <tbody>\n",
       "    <tr>\n",
       "      <th>0</th>\n",
       "      <td>1</td>\n",
       "    </tr>\n",
       "    <tr>\n",
       "      <th>1</th>\n",
       "      <td>1</td>\n",
       "    </tr>\n",
       "    <tr>\n",
       "      <th>2</th>\n",
       "      <td>1</td>\n",
       "    </tr>\n",
       "    <tr>\n",
       "      <th>3</th>\n",
       "      <td>1</td>\n",
       "    </tr>\n",
       "    <tr>\n",
       "      <th>4</th>\n",
       "      <td>1</td>\n",
       "    </tr>\n",
       "  </tbody>\n",
       "</table>\n",
       "</div>"
      ],
      "text/plain": [
       "   0\n",
       "0  1\n",
       "1  1\n",
       "2  1\n",
       "3  1\n",
       "4  1"
      ]
     },
     "execution_count": 16,
     "metadata": {},
     "output_type": "execute_result"
    }
   ],
   "source": [
    "result.head()"
   ]
  },
  {
   "cell_type": "code",
   "execution_count": 17,
   "id": "f568f34e",
   "metadata": {},
   "outputs": [],
   "source": [
    "result['Treatment'] = df['Treatment']"
   ]
  },
  {
   "cell_type": "code",
   "execution_count": 18,
   "id": "1d0de94a",
   "metadata": {},
   "outputs": [
    {
     "data": {
      "text/html": [
       "<div>\n",
       "<style scoped>\n",
       "    .dataframe tbody tr th:only-of-type {\n",
       "        vertical-align: middle;\n",
       "    }\n",
       "\n",
       "    .dataframe tbody tr th {\n",
       "        vertical-align: top;\n",
       "    }\n",
       "\n",
       "    .dataframe thead th {\n",
       "        text-align: right;\n",
       "    }\n",
       "</style>\n",
       "<table border=\"1\" class=\"dataframe\">\n",
       "  <thead>\n",
       "    <tr style=\"text-align: right;\">\n",
       "      <th></th>\n",
       "      <th>0</th>\n",
       "      <th>Treatment</th>\n",
       "    </tr>\n",
       "  </thead>\n",
       "  <tbody>\n",
       "    <tr>\n",
       "      <th>0</th>\n",
       "      <td>1</td>\n",
       "      <td>A</td>\n",
       "    </tr>\n",
       "    <tr>\n",
       "      <th>1</th>\n",
       "      <td>1</td>\n",
       "      <td>A</td>\n",
       "    </tr>\n",
       "    <tr>\n",
       "      <th>2</th>\n",
       "      <td>1</td>\n",
       "      <td>A</td>\n",
       "    </tr>\n",
       "    <tr>\n",
       "      <th>3</th>\n",
       "      <td>1</td>\n",
       "      <td>A</td>\n",
       "    </tr>\n",
       "    <tr>\n",
       "      <th>4</th>\n",
       "      <td>1</td>\n",
       "      <td>A</td>\n",
       "    </tr>\n",
       "  </tbody>\n",
       "</table>\n",
       "</div>"
      ],
      "text/plain": [
       "   0 Treatment\n",
       "0  1         A\n",
       "1  1         A\n",
       "2  1         A\n",
       "3  1         A\n",
       "4  1         A"
      ]
     },
     "execution_count": 18,
     "metadata": {},
     "output_type": "execute_result"
    }
   ],
   "source": [
    "result.head()"
   ]
  },
  {
   "cell_type": "code",
   "execution_count": 19,
   "id": "7ed7f031",
   "metadata": {},
   "outputs": [],
   "source": [
    "# result.to_excel('kmeans_result.xlsx')"
   ]
  },
  {
   "cell_type": "code",
   "execution_count": 20,
   "id": "f2a046a4",
   "metadata": {},
   "outputs": [],
   "source": [
    "result = result.rename(columns={0:'Prediction','Treatment':'Treatment'})"
   ]
  },
  {
   "cell_type": "code",
   "execution_count": 21,
   "id": "26821615",
   "metadata": {},
   "outputs": [
    {
     "data": {
      "text/html": [
       "<div>\n",
       "<style scoped>\n",
       "    .dataframe tbody tr th:only-of-type {\n",
       "        vertical-align: middle;\n",
       "    }\n",
       "\n",
       "    .dataframe tbody tr th {\n",
       "        vertical-align: top;\n",
       "    }\n",
       "\n",
       "    .dataframe thead th {\n",
       "        text-align: right;\n",
       "    }\n",
       "</style>\n",
       "<table border=\"1\" class=\"dataframe\">\n",
       "  <thead>\n",
       "    <tr style=\"text-align: right;\">\n",
       "      <th></th>\n",
       "      <th>Prediction</th>\n",
       "      <th>Treatment</th>\n",
       "    </tr>\n",
       "  </thead>\n",
       "  <tbody>\n",
       "    <tr>\n",
       "      <th>0</th>\n",
       "      <td>1</td>\n",
       "      <td>A</td>\n",
       "    </tr>\n",
       "    <tr>\n",
       "      <th>1</th>\n",
       "      <td>1</td>\n",
       "      <td>A</td>\n",
       "    </tr>\n",
       "    <tr>\n",
       "      <th>2</th>\n",
       "      <td>1</td>\n",
       "      <td>A</td>\n",
       "    </tr>\n",
       "    <tr>\n",
       "      <th>3</th>\n",
       "      <td>1</td>\n",
       "      <td>A</td>\n",
       "    </tr>\n",
       "    <tr>\n",
       "      <th>4</th>\n",
       "      <td>1</td>\n",
       "      <td>A</td>\n",
       "    </tr>\n",
       "  </tbody>\n",
       "</table>\n",
       "</div>"
      ],
      "text/plain": [
       "   Prediction Treatment\n",
       "0           1         A\n",
       "1           1         A\n",
       "2           1         A\n",
       "3           1         A\n",
       "4           1         A"
      ]
     },
     "execution_count": 21,
     "metadata": {},
     "output_type": "execute_result"
    }
   ],
   "source": [
    "result.head()"
   ]
  },
  {
   "cell_type": "code",
   "execution_count": 22,
   "id": "29afa700",
   "metadata": {},
   "outputs": [
    {
     "data": {
      "text/plain": [
       "125"
      ]
     },
     "execution_count": 22,
     "metadata": {},
     "output_type": "execute_result"
    }
   ],
   "source": [
    "sum(result[result['Treatment']=='A']['Prediction'])"
   ]
  },
  {
   "cell_type": "code",
   "execution_count": 23,
   "id": "e9d8cfa0",
   "metadata": {},
   "outputs": [
    {
     "data": {
      "text/html": [
       "<div>\n",
       "<style scoped>\n",
       "    .dataframe tbody tr th:only-of-type {\n",
       "        vertical-align: middle;\n",
       "    }\n",
       "\n",
       "    .dataframe tbody tr th {\n",
       "        vertical-align: top;\n",
       "    }\n",
       "\n",
       "    .dataframe thead th {\n",
       "        text-align: right;\n",
       "    }\n",
       "</style>\n",
       "<table border=\"1\" class=\"dataframe\">\n",
       "  <thead>\n",
       "    <tr style=\"text-align: right;\">\n",
       "      <th></th>\n",
       "      <th>Prediction</th>\n",
       "      <th>Treatment</th>\n",
       "    </tr>\n",
       "  </thead>\n",
       "  <tbody>\n",
       "    <tr>\n",
       "      <th>0</th>\n",
       "      <td>1</td>\n",
       "      <td>A</td>\n",
       "    </tr>\n",
       "    <tr>\n",
       "      <th>1</th>\n",
       "      <td>1</td>\n",
       "      <td>A</td>\n",
       "    </tr>\n",
       "    <tr>\n",
       "      <th>2</th>\n",
       "      <td>1</td>\n",
       "      <td>A</td>\n",
       "    </tr>\n",
       "    <tr>\n",
       "      <th>3</th>\n",
       "      <td>1</td>\n",
       "      <td>A</td>\n",
       "    </tr>\n",
       "    <tr>\n",
       "      <th>4</th>\n",
       "      <td>1</td>\n",
       "      <td>A</td>\n",
       "    </tr>\n",
       "    <tr>\n",
       "      <th>...</th>\n",
       "      <td>...</td>\n",
       "      <td>...</td>\n",
       "    </tr>\n",
       "    <tr>\n",
       "      <th>120</th>\n",
       "      <td>1</td>\n",
       "      <td>A</td>\n",
       "    </tr>\n",
       "    <tr>\n",
       "      <th>121</th>\n",
       "      <td>1</td>\n",
       "      <td>A</td>\n",
       "    </tr>\n",
       "    <tr>\n",
       "      <th>122</th>\n",
       "      <td>1</td>\n",
       "      <td>A</td>\n",
       "    </tr>\n",
       "    <tr>\n",
       "      <th>123</th>\n",
       "      <td>1</td>\n",
       "      <td>A</td>\n",
       "    </tr>\n",
       "    <tr>\n",
       "      <th>124</th>\n",
       "      <td>1</td>\n",
       "      <td>A</td>\n",
       "    </tr>\n",
       "  </tbody>\n",
       "</table>\n",
       "<p>125 rows × 2 columns</p>\n",
       "</div>"
      ],
      "text/plain": [
       "     Prediction Treatment\n",
       "0             1         A\n",
       "1             1         A\n",
       "2             1         A\n",
       "3             1         A\n",
       "4             1         A\n",
       "..          ...       ...\n",
       "120           1         A\n",
       "121           1         A\n",
       "122           1         A\n",
       "123           1         A\n",
       "124           1         A\n",
       "\n",
       "[125 rows x 2 columns]"
      ]
     },
     "execution_count": 23,
     "metadata": {},
     "output_type": "execute_result"
    }
   ],
   "source": [
    "result[result['Treatment']=='A']"
   ]
  },
  {
   "cell_type": "code",
   "execution_count": 24,
   "id": "99d35f8e",
   "metadata": {},
   "outputs": [
    {
     "data": {
      "text/plain": [
       "121"
      ]
     },
     "execution_count": 24,
     "metadata": {},
     "output_type": "execute_result"
    }
   ],
   "source": [
    "sum(result[result['Treatment']=='B']['Prediction'])"
   ]
  },
  {
   "cell_type": "code",
   "execution_count": 25,
   "id": "b39e4d30",
   "metadata": {},
   "outputs": [
    {
     "data": {
      "text/plain": [
       "Index(['ID', 'Treatment', 'Gender', 'Visit', 'Age', 'BMI', 'weight', 'Race',\n",
       "       'Country', 'UCS', 'ECS', 'RCS', 'MedIncome', 'BMI1', 'BMI2', 'BMI3',\n",
       "       'weight1', 'weight2', 'weight3', 'UCS1', 'UCS2', 'UCS3', 'ECS1', 'ECS2',\n",
       "       'ECS3', 'RCS1', 'RCS2', 'RCS3', 'delBMI1', 'delBMI2', 'delBMI3',\n",
       "       'delweight1', 'delweight2', 'delweight3', 'delUCS1', 'delUCS2',\n",
       "       'delUCS3', 'delECS1', 'delECS2', 'delECS3', 'delRCS1', 'delRCS2',\n",
       "       'delRCS3'],\n",
       "      dtype='object')"
      ]
     },
     "execution_count": 25,
     "metadata": {},
     "output_type": "execute_result"
    }
   ],
   "source": [
    "df.columns"
   ]
  },
  {
   "cell_type": "code",
   "execution_count": 26,
   "id": "53df9d5b",
   "metadata": {},
   "outputs": [
    {
     "name": "stdout",
     "output_type": "stream",
     "text": [
      "mean of delBMI1: -0.5324535502506571\n",
      "mean of delBMI2: -2.0301383208515196\n",
      "mean of delBMI3: -2.2256764695519795\n",
      "mean of delweight1: -18.40647623149009\n",
      "mean of delweight2: -30.172935131108975\n",
      "mean of delweight3: -35.247646489533764\n",
      "mean of delUCS1: -3.112517975746117\n",
      "mean of delUCS2: -5.00598654670099\n",
      "mean of delUCS3: -6.205896953551376\n",
      "mean of delECS1: -1.9927493120795043\n",
      "mean of delECS2: -4.067113652165814\n",
      "mean of delECS3: -6.99236955041864\n",
      "mean of delRCS1: -1.0669731125995894\n",
      "mean of delRCS2: -2.571999042299507\n",
      "mean of delRCS3: -4.1183888024718796\n"
     ]
    }
   ],
   "source": [
    "for i in ['delBMI1', 'delBMI2', 'delBMI3',\n",
    "       'delweight1', 'delweight2', 'delweight3', 'delUCS1', 'delUCS2',\n",
    "       'delUCS3', 'delECS1', 'delECS2', 'delECS3', 'delRCS1', 'delRCS2',\n",
    "       'delRCS3']:\n",
    "    print('mean of {}: {}'.format(i,np.mean(df[i])))"
   ]
  },
  {
   "cell_type": "code",
   "execution_count": 27,
   "id": "f2020044",
   "metadata": {},
   "outputs": [
    {
     "name": "stdout",
     "output_type": "stream",
     "text": [
      "mean of delBMI1: -0.5178155874598052\n",
      "mean of delBMI2: -2.005927560419256\n",
      "mean of delBMI3: -2.214944688377482\n",
      "mean of delweight1: -18.82311856411851\n",
      "mean of delweight2: -30.8468848499034\n",
      "mean of delweight3: -35.63736276074968\n",
      "mean of delUCS1: -2.9614728795711214\n",
      "mean of delUCS2: -4.851828617680051\n",
      "mean of delUCS3: -5.990106226681501\n",
      "mean of delECS1: -2.0090108317968247\n",
      "mean of delECS2: -4.017622745630085\n",
      "mean of delECS3: -6.928476674649452\n",
      "mean of delRCS1: -1.0144018398926675\n",
      "mean of delRCS2: -1.9933861217268278\n",
      "mean of delRCS3: -3.011695103471796\n",
      "[-0.5178155874598052, -2.005927560419256, -2.214944688377482, -18.82311856411851, -30.8468848499034, -35.63736276074968, -2.9614728795711214, -4.851828617680051, -5.990106226681501, -2.0090108317968247, -4.017622745630085, -6.928476674649452, -1.0144018398926675, -1.9933861217268278, -3.011695103471796]\n"
     ]
    }
   ],
   "source": [
    "b_del = []\n",
    "for i in ['delBMI1', 'delBMI2', 'delBMI3',\n",
    "       'delweight1', 'delweight2', 'delweight3', 'delUCS1', 'delUCS2',\n",
    "       'delUCS3', 'delECS1', 'delECS2', 'delECS3', 'delRCS1', 'delRCS2',\n",
    "       'delRCS3']:\n",
    "    print('mean of {}: {}'.format(i,np.mean(df[df['Treatment']=='B'][i])))\n",
    "    b_del.append(np.mean(df[df['Treatment']=='B'][i]))\n",
    "print(b_del)"
   ]
  },
  {
   "cell_type": "code",
   "execution_count": 28,
   "id": "80f85995",
   "metadata": {},
   "outputs": [
    {
     "name": "stdout",
     "output_type": "stream",
     "text": [
      "mean of delBMI1: -0.5470915130415095\n",
      "mean of delBMI2: -2.0543490812837812\n",
      "mean of delBMI3: -2.2364082507264733\n",
      "mean of delweight1: -17.989833898861686\n",
      "mean of delweight2: -29.49898541231461\n",
      "mean of delweight3: -34.85793021831785\n",
      "mean of delUCS1: -3.2635630719211175\n",
      "mean of delUCS2: -5.160144475721934\n",
      "mean of delUCS3: -6.421687680421253\n",
      "mean of delECS1: -1.9764877923621822\n",
      "mean of delECS2: -4.116604558701543\n",
      "mean of delECS3: -7.056262426187827\n",
      "mean of delRCS1: -1.1195443853065108\n",
      "mean of delRCS2: -3.1506119628721825\n",
      "mean of delRCS3: -5.2250825014719595\n",
      "[-0.5470915130415095, -2.0543490812837812, -2.2364082507264733, -17.989833898861686, -29.49898541231461, -34.85793021831785, -3.2635630719211175, -5.160144475721934, -6.421687680421253, -1.9764877923621822, -4.116604558701543, -7.056262426187827, -1.1195443853065108, -3.1506119628721825, -5.2250825014719595]\n"
     ]
    }
   ],
   "source": [
    "a_del = []\n",
    "for i in ['delBMI1', 'delBMI2', 'delBMI3',\n",
    "       'delweight1', 'delweight2', 'delweight3', 'delUCS1', 'delUCS2',\n",
    "       'delUCS3', 'delECS1', 'delECS2', 'delECS3', 'delRCS1', 'delRCS2',\n",
    "       'delRCS3']:\n",
    "    print('mean of {}: {}'.format(i,np.mean(df[df['Treatment']=='A'][i])))\n",
    "    a_del.append(np.mean(df[df['Treatment']=='A'][i]))\n",
    "print(a_del)"
   ]
  },
  {
   "cell_type": "code",
   "execution_count": 29,
   "id": "1ecca226",
   "metadata": {},
   "outputs": [],
   "source": [
    "params = ['delBMI1', 'delBMI2', 'delBMI3',\n",
    "       'delweight1', 'delweight2', 'delweight3', 'delUCS1', 'delUCS2',\n",
    "       'delUCS3', 'delECS1', 'delECS2', 'delECS3', 'delRCS1', 'delRCS2',\n",
    "       'delRCS3']\n",
    "results2 = pd.DataFrame(params)"
   ]
  },
  {
   "cell_type": "code",
   "execution_count": 30,
   "id": "8bc3ed2c",
   "metadata": {},
   "outputs": [
    {
     "data": {
      "text/html": [
       "<div>\n",
       "<style scoped>\n",
       "    .dataframe tbody tr th:only-of-type {\n",
       "        vertical-align: middle;\n",
       "    }\n",
       "\n",
       "    .dataframe tbody tr th {\n",
       "        vertical-align: top;\n",
       "    }\n",
       "\n",
       "    .dataframe thead th {\n",
       "        text-align: right;\n",
       "    }\n",
       "</style>\n",
       "<table border=\"1\" class=\"dataframe\">\n",
       "  <thead>\n",
       "    <tr style=\"text-align: right;\">\n",
       "      <th></th>\n",
       "      <th>0</th>\n",
       "      <th>A_del</th>\n",
       "      <th>B_del</th>\n",
       "    </tr>\n",
       "  </thead>\n",
       "  <tbody>\n",
       "    <tr>\n",
       "      <th>0</th>\n",
       "      <td>delBMI1</td>\n",
       "      <td>0.547092</td>\n",
       "      <td>0.517816</td>\n",
       "    </tr>\n",
       "    <tr>\n",
       "      <th>1</th>\n",
       "      <td>delBMI2</td>\n",
       "      <td>2.054349</td>\n",
       "      <td>2.005928</td>\n",
       "    </tr>\n",
       "    <tr>\n",
       "      <th>2</th>\n",
       "      <td>delBMI3</td>\n",
       "      <td>2.236408</td>\n",
       "      <td>2.214945</td>\n",
       "    </tr>\n",
       "    <tr>\n",
       "      <th>3</th>\n",
       "      <td>delweight1</td>\n",
       "      <td>17.989834</td>\n",
       "      <td>18.823119</td>\n",
       "    </tr>\n",
       "    <tr>\n",
       "      <th>4</th>\n",
       "      <td>delweight2</td>\n",
       "      <td>29.498985</td>\n",
       "      <td>30.846885</td>\n",
       "    </tr>\n",
       "    <tr>\n",
       "      <th>5</th>\n",
       "      <td>delweight3</td>\n",
       "      <td>34.857930</td>\n",
       "      <td>35.637363</td>\n",
       "    </tr>\n",
       "    <tr>\n",
       "      <th>6</th>\n",
       "      <td>delUCS1</td>\n",
       "      <td>3.263563</td>\n",
       "      <td>2.961473</td>\n",
       "    </tr>\n",
       "    <tr>\n",
       "      <th>7</th>\n",
       "      <td>delUCS2</td>\n",
       "      <td>5.160144</td>\n",
       "      <td>4.851829</td>\n",
       "    </tr>\n",
       "    <tr>\n",
       "      <th>8</th>\n",
       "      <td>delUCS3</td>\n",
       "      <td>6.421688</td>\n",
       "      <td>5.990106</td>\n",
       "    </tr>\n",
       "    <tr>\n",
       "      <th>9</th>\n",
       "      <td>delECS1</td>\n",
       "      <td>1.976488</td>\n",
       "      <td>2.009011</td>\n",
       "    </tr>\n",
       "    <tr>\n",
       "      <th>10</th>\n",
       "      <td>delECS2</td>\n",
       "      <td>4.116605</td>\n",
       "      <td>4.017623</td>\n",
       "    </tr>\n",
       "    <tr>\n",
       "      <th>11</th>\n",
       "      <td>delECS3</td>\n",
       "      <td>7.056262</td>\n",
       "      <td>6.928477</td>\n",
       "    </tr>\n",
       "    <tr>\n",
       "      <th>12</th>\n",
       "      <td>delRCS1</td>\n",
       "      <td>1.119544</td>\n",
       "      <td>1.014402</td>\n",
       "    </tr>\n",
       "    <tr>\n",
       "      <th>13</th>\n",
       "      <td>delRCS2</td>\n",
       "      <td>3.150612</td>\n",
       "      <td>1.993386</td>\n",
       "    </tr>\n",
       "    <tr>\n",
       "      <th>14</th>\n",
       "      <td>delRCS3</td>\n",
       "      <td>5.225083</td>\n",
       "      <td>3.011695</td>\n",
       "    </tr>\n",
       "  </tbody>\n",
       "</table>\n",
       "</div>"
      ],
      "text/plain": [
       "             0      A_del      B_del\n",
       "0      delBMI1   0.547092   0.517816\n",
       "1      delBMI2   2.054349   2.005928\n",
       "2      delBMI3   2.236408   2.214945\n",
       "3   delweight1  17.989834  18.823119\n",
       "4   delweight2  29.498985  30.846885\n",
       "5   delweight3  34.857930  35.637363\n",
       "6      delUCS1   3.263563   2.961473\n",
       "7      delUCS2   5.160144   4.851829\n",
       "8      delUCS3   6.421688   5.990106\n",
       "9      delECS1   1.976488   2.009011\n",
       "10     delECS2   4.116605   4.017623\n",
       "11     delECS3   7.056262   6.928477\n",
       "12     delRCS1   1.119544   1.014402\n",
       "13     delRCS2   3.150612   1.993386\n",
       "14     delRCS3   5.225083   3.011695"
      ]
     },
     "execution_count": 30,
     "metadata": {},
     "output_type": "execute_result"
    }
   ],
   "source": [
    "results2['A_del'] = [abs(x) for x in a_del]\n",
    "results2['B_del'] = [abs(x) for x in b_del]\n",
    "results2"
   ]
  },
  {
   "cell_type": "code",
   "execution_count": 31,
   "id": "bcfdc8ee",
   "metadata": {},
   "outputs": [
    {
     "data": {
      "text/html": [
       "<div>\n",
       "<style scoped>\n",
       "    .dataframe tbody tr th:only-of-type {\n",
       "        vertical-align: middle;\n",
       "    }\n",
       "\n",
       "    .dataframe tbody tr th {\n",
       "        vertical-align: top;\n",
       "    }\n",
       "\n",
       "    .dataframe thead th {\n",
       "        text-align: right;\n",
       "    }\n",
       "</style>\n",
       "<table border=\"1\" class=\"dataframe\">\n",
       "  <thead>\n",
       "    <tr style=\"text-align: right;\">\n",
       "      <th></th>\n",
       "      <th>0</th>\n",
       "      <th>A_del</th>\n",
       "      <th>B_del</th>\n",
       "      <th>A&gt;B</th>\n",
       "    </tr>\n",
       "  </thead>\n",
       "  <tbody>\n",
       "    <tr>\n",
       "      <th>0</th>\n",
       "      <td>delBMI1</td>\n",
       "      <td>0.547092</td>\n",
       "      <td>0.517816</td>\n",
       "      <td>0.029276</td>\n",
       "    </tr>\n",
       "    <tr>\n",
       "      <th>1</th>\n",
       "      <td>delBMI2</td>\n",
       "      <td>2.054349</td>\n",
       "      <td>2.005928</td>\n",
       "      <td>0.048422</td>\n",
       "    </tr>\n",
       "    <tr>\n",
       "      <th>2</th>\n",
       "      <td>delBMI3</td>\n",
       "      <td>2.236408</td>\n",
       "      <td>2.214945</td>\n",
       "      <td>0.021464</td>\n",
       "    </tr>\n",
       "    <tr>\n",
       "      <th>3</th>\n",
       "      <td>delweight1</td>\n",
       "      <td>17.989834</td>\n",
       "      <td>18.823119</td>\n",
       "      <td>-0.833285</td>\n",
       "    </tr>\n",
       "    <tr>\n",
       "      <th>4</th>\n",
       "      <td>delweight2</td>\n",
       "      <td>29.498985</td>\n",
       "      <td>30.846885</td>\n",
       "      <td>-1.347899</td>\n",
       "    </tr>\n",
       "    <tr>\n",
       "      <th>5</th>\n",
       "      <td>delweight3</td>\n",
       "      <td>34.857930</td>\n",
       "      <td>35.637363</td>\n",
       "      <td>-0.779433</td>\n",
       "    </tr>\n",
       "    <tr>\n",
       "      <th>6</th>\n",
       "      <td>delUCS1</td>\n",
       "      <td>3.263563</td>\n",
       "      <td>2.961473</td>\n",
       "      <td>0.302090</td>\n",
       "    </tr>\n",
       "    <tr>\n",
       "      <th>7</th>\n",
       "      <td>delUCS2</td>\n",
       "      <td>5.160144</td>\n",
       "      <td>4.851829</td>\n",
       "      <td>0.308316</td>\n",
       "    </tr>\n",
       "    <tr>\n",
       "      <th>8</th>\n",
       "      <td>delUCS3</td>\n",
       "      <td>6.421688</td>\n",
       "      <td>5.990106</td>\n",
       "      <td>0.431581</td>\n",
       "    </tr>\n",
       "    <tr>\n",
       "      <th>9</th>\n",
       "      <td>delECS1</td>\n",
       "      <td>1.976488</td>\n",
       "      <td>2.009011</td>\n",
       "      <td>-0.032523</td>\n",
       "    </tr>\n",
       "    <tr>\n",
       "      <th>10</th>\n",
       "      <td>delECS2</td>\n",
       "      <td>4.116605</td>\n",
       "      <td>4.017623</td>\n",
       "      <td>0.098982</td>\n",
       "    </tr>\n",
       "    <tr>\n",
       "      <th>11</th>\n",
       "      <td>delECS3</td>\n",
       "      <td>7.056262</td>\n",
       "      <td>6.928477</td>\n",
       "      <td>0.127786</td>\n",
       "    </tr>\n",
       "    <tr>\n",
       "      <th>12</th>\n",
       "      <td>delRCS1</td>\n",
       "      <td>1.119544</td>\n",
       "      <td>1.014402</td>\n",
       "      <td>0.105143</td>\n",
       "    </tr>\n",
       "    <tr>\n",
       "      <th>13</th>\n",
       "      <td>delRCS2</td>\n",
       "      <td>3.150612</td>\n",
       "      <td>1.993386</td>\n",
       "      <td>1.157226</td>\n",
       "    </tr>\n",
       "    <tr>\n",
       "      <th>14</th>\n",
       "      <td>delRCS3</td>\n",
       "      <td>5.225083</td>\n",
       "      <td>3.011695</td>\n",
       "      <td>2.213387</td>\n",
       "    </tr>\n",
       "  </tbody>\n",
       "</table>\n",
       "</div>"
      ],
      "text/plain": [
       "             0      A_del      B_del       A>B\n",
       "0      delBMI1   0.547092   0.517816  0.029276\n",
       "1      delBMI2   2.054349   2.005928  0.048422\n",
       "2      delBMI3   2.236408   2.214945  0.021464\n",
       "3   delweight1  17.989834  18.823119 -0.833285\n",
       "4   delweight2  29.498985  30.846885 -1.347899\n",
       "5   delweight3  34.857930  35.637363 -0.779433\n",
       "6      delUCS1   3.263563   2.961473  0.302090\n",
       "7      delUCS2   5.160144   4.851829  0.308316\n",
       "8      delUCS3   6.421688   5.990106  0.431581\n",
       "9      delECS1   1.976488   2.009011 -0.032523\n",
       "10     delECS2   4.116605   4.017623  0.098982\n",
       "11     delECS3   7.056262   6.928477  0.127786\n",
       "12     delRCS1   1.119544   1.014402  0.105143\n",
       "13     delRCS2   3.150612   1.993386  1.157226\n",
       "14     delRCS3   5.225083   3.011695  2.213387"
      ]
     },
     "execution_count": 31,
     "metadata": {},
     "output_type": "execute_result"
    }
   ],
   "source": [
    "results2['A>B'] = results2['A_del'] - results2['B_del']\n",
    "results2"
   ]
  },
  {
   "cell_type": "code",
   "execution_count": 32,
   "id": "0ab7ef52",
   "metadata": {},
   "outputs": [
    {
     "data": {
      "text/html": [
       "<div>\n",
       "<style scoped>\n",
       "    .dataframe tbody tr th:only-of-type {\n",
       "        vertical-align: middle;\n",
       "    }\n",
       "\n",
       "    .dataframe tbody tr th {\n",
       "        vertical-align: top;\n",
       "    }\n",
       "\n",
       "    .dataframe thead th {\n",
       "        text-align: right;\n",
       "    }\n",
       "</style>\n",
       "<table border=\"1\" class=\"dataframe\">\n",
       "  <thead>\n",
       "    <tr style=\"text-align: right;\">\n",
       "      <th></th>\n",
       "      <th>ID</th>\n",
       "      <th>Treatment</th>\n",
       "      <th>Gender</th>\n",
       "      <th>Visit</th>\n",
       "      <th>Age</th>\n",
       "      <th>BMI</th>\n",
       "      <th>weight</th>\n",
       "      <th>Race</th>\n",
       "      <th>Country</th>\n",
       "      <th>UCS</th>\n",
       "      <th>...</th>\n",
       "      <th>delweight3</th>\n",
       "      <th>delUCS1</th>\n",
       "      <th>delUCS2</th>\n",
       "      <th>delUCS3</th>\n",
       "      <th>delECS1</th>\n",
       "      <th>delECS2</th>\n",
       "      <th>delECS3</th>\n",
       "      <th>delRCS1</th>\n",
       "      <th>delRCS2</th>\n",
       "      <th>delRCS3</th>\n",
       "    </tr>\n",
       "  </thead>\n",
       "  <tbody>\n",
       "    <tr>\n",
       "      <th>0</th>\n",
       "      <td>1</td>\n",
       "      <td>A</td>\n",
       "      <td>Male</td>\n",
       "      <td>0</td>\n",
       "      <td>14</td>\n",
       "      <td>28.296901</td>\n",
       "      <td>121.403843</td>\n",
       "      <td>Caucasian</td>\n",
       "      <td>USA</td>\n",
       "      <td>17.189710</td>\n",
       "      <td>...</td>\n",
       "      <td>-35.626737</td>\n",
       "      <td>-3.933703</td>\n",
       "      <td>-6.261494</td>\n",
       "      <td>-8.732289</td>\n",
       "      <td>0.316057</td>\n",
       "      <td>-1.271781</td>\n",
       "      <td>-4.462381</td>\n",
       "      <td>-0.562701</td>\n",
       "      <td>-2.005534</td>\n",
       "      <td>-5.063896</td>\n",
       "    </tr>\n",
       "    <tr>\n",
       "      <th>1</th>\n",
       "      <td>2</td>\n",
       "      <td>A</td>\n",
       "      <td>Male</td>\n",
       "      <td>0</td>\n",
       "      <td>17</td>\n",
       "      <td>27.437996</td>\n",
       "      <td>123.189625</td>\n",
       "      <td>Asian</td>\n",
       "      <td>China</td>\n",
       "      <td>15.371139</td>\n",
       "      <td>...</td>\n",
       "      <td>-37.479454</td>\n",
       "      <td>-2.060509</td>\n",
       "      <td>-4.999746</td>\n",
       "      <td>-7.270702</td>\n",
       "      <td>-2.209541</td>\n",
       "      <td>-2.799407</td>\n",
       "      <td>-7.402028</td>\n",
       "      <td>-4.284766</td>\n",
       "      <td>-4.966430</td>\n",
       "      <td>-5.800537</td>\n",
       "    </tr>\n",
       "    <tr>\n",
       "      <th>2</th>\n",
       "      <td>3</td>\n",
       "      <td>A</td>\n",
       "      <td>Male</td>\n",
       "      <td>0</td>\n",
       "      <td>14</td>\n",
       "      <td>27.031513</td>\n",
       "      <td>121.944314</td>\n",
       "      <td>Latin American</td>\n",
       "      <td>Brazil</td>\n",
       "      <td>16.438826</td>\n",
       "      <td>...</td>\n",
       "      <td>-36.772465</td>\n",
       "      <td>-3.614057</td>\n",
       "      <td>-7.231496</td>\n",
       "      <td>-6.528457</td>\n",
       "      <td>-3.486566</td>\n",
       "      <td>-4.666462</td>\n",
       "      <td>-6.197926</td>\n",
       "      <td>0.138239</td>\n",
       "      <td>-2.815101</td>\n",
       "      <td>-4.612538</td>\n",
       "    </tr>\n",
       "    <tr>\n",
       "      <th>3</th>\n",
       "      <td>4</td>\n",
       "      <td>A</td>\n",
       "      <td>Male</td>\n",
       "      <td>0</td>\n",
       "      <td>17</td>\n",
       "      <td>26.222483</td>\n",
       "      <td>121.478258</td>\n",
       "      <td>African</td>\n",
       "      <td>Cook Islands</td>\n",
       "      <td>16.065062</td>\n",
       "      <td>...</td>\n",
       "      <td>-37.473124</td>\n",
       "      <td>-4.116454</td>\n",
       "      <td>-6.243020</td>\n",
       "      <td>-5.683841</td>\n",
       "      <td>-2.939516</td>\n",
       "      <td>-2.813163</td>\n",
       "      <td>-6.363154</td>\n",
       "      <td>-3.224637</td>\n",
       "      <td>-3.589701</td>\n",
       "      <td>-4.862849</td>\n",
       "    </tr>\n",
       "    <tr>\n",
       "      <th>4</th>\n",
       "      <td>5</td>\n",
       "      <td>A</td>\n",
       "      <td>Male</td>\n",
       "      <td>0</td>\n",
       "      <td>18</td>\n",
       "      <td>26.432980</td>\n",
       "      <td>118.610875</td>\n",
       "      <td>Asian</td>\n",
       "      <td>China</td>\n",
       "      <td>17.219120</td>\n",
       "      <td>...</td>\n",
       "      <td>-39.962172</td>\n",
       "      <td>-3.192134</td>\n",
       "      <td>-6.100859</td>\n",
       "      <td>-8.300085</td>\n",
       "      <td>-3.515449</td>\n",
       "      <td>-4.611292</td>\n",
       "      <td>-7.963958</td>\n",
       "      <td>-2.368702</td>\n",
       "      <td>-3.732605</td>\n",
       "      <td>-3.638673</td>\n",
       "    </tr>\n",
       "  </tbody>\n",
       "</table>\n",
       "<p>5 rows × 43 columns</p>\n",
       "</div>"
      ],
      "text/plain": [
       "   ID Treatment Gender  Visit  Age        BMI      weight            Race  \\\n",
       "0   1         A   Male      0   14  28.296901  121.403843       Caucasian   \n",
       "1   2         A   Male      0   17  27.437996  123.189625           Asian   \n",
       "2   3         A   Male      0   14  27.031513  121.944314  Latin American   \n",
       "3   4         A   Male      0   17  26.222483  121.478258         African   \n",
       "4   5         A   Male      0   18  26.432980  118.610875           Asian   \n",
       "\n",
       "        Country        UCS  ...  delweight3   delUCS1   delUCS2   delUCS3  \\\n",
       "0           USA  17.189710  ...  -35.626737 -3.933703 -6.261494 -8.732289   \n",
       "1         China  15.371139  ...  -37.479454 -2.060509 -4.999746 -7.270702   \n",
       "2        Brazil  16.438826  ...  -36.772465 -3.614057 -7.231496 -6.528457   \n",
       "3  Cook Islands  16.065062  ...  -37.473124 -4.116454 -6.243020 -5.683841   \n",
       "4         China  17.219120  ...  -39.962172 -3.192134 -6.100859 -8.300085   \n",
       "\n",
       "    delECS1   delECS2   delECS3   delRCS1   delRCS2   delRCS3  \n",
       "0  0.316057 -1.271781 -4.462381 -0.562701 -2.005534 -5.063896  \n",
       "1 -2.209541 -2.799407 -7.402028 -4.284766 -4.966430 -5.800537  \n",
       "2 -3.486566 -4.666462 -6.197926  0.138239 -2.815101 -4.612538  \n",
       "3 -2.939516 -2.813163 -6.363154 -3.224637 -3.589701 -4.862849  \n",
       "4 -3.515449 -4.611292 -7.963958 -2.368702 -3.732605 -3.638673  \n",
       "\n",
       "[5 rows x 43 columns]"
      ]
     },
     "execution_count": 32,
     "metadata": {},
     "output_type": "execute_result"
    }
   ],
   "source": [
    "df.head()"
   ]
  },
  {
   "cell_type": "code",
   "execution_count": 33,
   "id": "cc285f81",
   "metadata": {},
   "outputs": [],
   "source": [
    "adel3 = df[df['Treatment']=='A'][['delBMI3','delweight3','delUCS3','delRCS3','delECS3']]"
   ]
  },
  {
   "cell_type": "code",
   "execution_count": 34,
   "id": "37042c19",
   "metadata": {},
   "outputs": [],
   "source": [
    "bdel3 = df[df['Treatment']=='B'][['delBMI3','delweight3','delUCS3','delRCS3','delECS3']]"
   ]
  },
  {
   "cell_type": "code",
   "execution_count": 35,
   "id": "bceecd56",
   "metadata": {},
   "outputs": [
    {
     "data": {
      "text/html": [
       "<div>\n",
       "<style scoped>\n",
       "    .dataframe tbody tr th:only-of-type {\n",
       "        vertical-align: middle;\n",
       "    }\n",
       "\n",
       "    .dataframe tbody tr th {\n",
       "        vertical-align: top;\n",
       "    }\n",
       "\n",
       "    .dataframe thead th {\n",
       "        text-align: right;\n",
       "    }\n",
       "</style>\n",
       "<table border=\"1\" class=\"dataframe\">\n",
       "  <thead>\n",
       "    <tr style=\"text-align: right;\">\n",
       "      <th></th>\n",
       "      <th>delBMI3</th>\n",
       "      <th>delweight3</th>\n",
       "      <th>delUCS3</th>\n",
       "      <th>delRCS3</th>\n",
       "      <th>delECS3</th>\n",
       "    </tr>\n",
       "  </thead>\n",
       "  <tbody>\n",
       "    <tr>\n",
       "      <th>count</th>\n",
       "      <td>125.000000</td>\n",
       "      <td>125.000000</td>\n",
       "      <td>125.000000</td>\n",
       "      <td>125.000000</td>\n",
       "      <td>125.000000</td>\n",
       "    </tr>\n",
       "    <tr>\n",
       "      <th>mean</th>\n",
       "      <td>-2.236408</td>\n",
       "      <td>-34.857930</td>\n",
       "      <td>-6.421688</td>\n",
       "      <td>-5.225083</td>\n",
       "      <td>-7.056262</td>\n",
       "    </tr>\n",
       "    <tr>\n",
       "      <th>std</th>\n",
       "      <td>0.850237</td>\n",
       "      <td>3.777375</td>\n",
       "      <td>1.661190</td>\n",
       "      <td>1.395139</td>\n",
       "      <td>1.117248</td>\n",
       "    </tr>\n",
       "    <tr>\n",
       "      <th>min</th>\n",
       "      <td>-4.528228</td>\n",
       "      <td>-44.732190</td>\n",
       "      <td>-10.200184</td>\n",
       "      <td>-9.399517</td>\n",
       "      <td>-10.075935</td>\n",
       "    </tr>\n",
       "    <tr>\n",
       "      <th>25%</th>\n",
       "      <td>-2.792411</td>\n",
       "      <td>-37.163426</td>\n",
       "      <td>-7.656789</td>\n",
       "      <td>-5.999006</td>\n",
       "      <td>-7.774433</td>\n",
       "    </tr>\n",
       "    <tr>\n",
       "      <th>50%</th>\n",
       "      <td>-2.193916</td>\n",
       "      <td>-34.839254</td>\n",
       "      <td>-6.336137</td>\n",
       "      <td>-4.938722</td>\n",
       "      <td>-7.114469</td>\n",
       "    </tr>\n",
       "    <tr>\n",
       "      <th>75%</th>\n",
       "      <td>-1.611094</td>\n",
       "      <td>-32.761517</td>\n",
       "      <td>-5.395211</td>\n",
       "      <td>-4.250978</td>\n",
       "      <td>-6.320315</td>\n",
       "    </tr>\n",
       "    <tr>\n",
       "      <th>max</th>\n",
       "      <td>-0.048196</td>\n",
       "      <td>-25.789692</td>\n",
       "      <td>-2.380456</td>\n",
       "      <td>-1.497669</td>\n",
       "      <td>-4.462381</td>\n",
       "    </tr>\n",
       "  </tbody>\n",
       "</table>\n",
       "</div>"
      ],
      "text/plain": [
       "          delBMI3  delweight3     delUCS3     delRCS3     delECS3\n",
       "count  125.000000  125.000000  125.000000  125.000000  125.000000\n",
       "mean    -2.236408  -34.857930   -6.421688   -5.225083   -7.056262\n",
       "std      0.850237    3.777375    1.661190    1.395139    1.117248\n",
       "min     -4.528228  -44.732190  -10.200184   -9.399517  -10.075935\n",
       "25%     -2.792411  -37.163426   -7.656789   -5.999006   -7.774433\n",
       "50%     -2.193916  -34.839254   -6.336137   -4.938722   -7.114469\n",
       "75%     -1.611094  -32.761517   -5.395211   -4.250978   -6.320315\n",
       "max     -0.048196  -25.789692   -2.380456   -1.497669   -4.462381"
      ]
     },
     "execution_count": 35,
     "metadata": {},
     "output_type": "execute_result"
    }
   ],
   "source": [
    "adel3.describe()"
   ]
  },
  {
   "cell_type": "code",
   "execution_count": 36,
   "id": "6feeef27",
   "metadata": {},
   "outputs": [
    {
     "data": {
      "text/html": [
       "<div>\n",
       "<style scoped>\n",
       "    .dataframe tbody tr th:only-of-type {\n",
       "        vertical-align: middle;\n",
       "    }\n",
       "\n",
       "    .dataframe tbody tr th {\n",
       "        vertical-align: top;\n",
       "    }\n",
       "\n",
       "    .dataframe thead th {\n",
       "        text-align: right;\n",
       "    }\n",
       "</style>\n",
       "<table border=\"1\" class=\"dataframe\">\n",
       "  <thead>\n",
       "    <tr style=\"text-align: right;\">\n",
       "      <th></th>\n",
       "      <th>delBMI3</th>\n",
       "      <th>delweight3</th>\n",
       "      <th>delUCS3</th>\n",
       "      <th>delRCS3</th>\n",
       "      <th>delECS3</th>\n",
       "    </tr>\n",
       "  </thead>\n",
       "  <tbody>\n",
       "    <tr>\n",
       "      <th>count</th>\n",
       "      <td>125.000000</td>\n",
       "      <td>125.000000</td>\n",
       "      <td>125.000000</td>\n",
       "      <td>125.000000</td>\n",
       "      <td>125.000000</td>\n",
       "    </tr>\n",
       "    <tr>\n",
       "      <th>mean</th>\n",
       "      <td>-2.214945</td>\n",
       "      <td>-35.637363</td>\n",
       "      <td>-5.990106</td>\n",
       "      <td>-3.011695</td>\n",
       "      <td>-6.928477</td>\n",
       "    </tr>\n",
       "    <tr>\n",
       "      <th>std</th>\n",
       "      <td>0.837528</td>\n",
       "      <td>7.098982</td>\n",
       "      <td>1.596801</td>\n",
       "      <td>1.109690</td>\n",
       "      <td>0.485120</td>\n",
       "    </tr>\n",
       "    <tr>\n",
       "      <th>min</th>\n",
       "      <td>-4.670995</td>\n",
       "      <td>-64.167623</td>\n",
       "      <td>-9.341278</td>\n",
       "      <td>-5.243920</td>\n",
       "      <td>-8.391300</td>\n",
       "    </tr>\n",
       "    <tr>\n",
       "      <th>25%</th>\n",
       "      <td>-2.615014</td>\n",
       "      <td>-37.958320</td>\n",
       "      <td>-7.266471</td>\n",
       "      <td>-4.109680</td>\n",
       "      <td>-7.179573</td>\n",
       "    </tr>\n",
       "    <tr>\n",
       "      <th>50%</th>\n",
       "      <td>-2.226897</td>\n",
       "      <td>-35.242356</td>\n",
       "      <td>-5.952916</td>\n",
       "      <td>-2.922112</td>\n",
       "      <td>-6.973290</td>\n",
       "    </tr>\n",
       "    <tr>\n",
       "      <th>75%</th>\n",
       "      <td>-1.902653</td>\n",
       "      <td>-32.292248</td>\n",
       "      <td>-4.926754</td>\n",
       "      <td>-1.989212</td>\n",
       "      <td>-6.738794</td>\n",
       "    </tr>\n",
       "    <tr>\n",
       "      <th>max</th>\n",
       "      <td>0.351176</td>\n",
       "      <td>-4.262517</td>\n",
       "      <td>-2.274408</td>\n",
       "      <td>-0.951565</td>\n",
       "      <td>-5.658094</td>\n",
       "    </tr>\n",
       "  </tbody>\n",
       "</table>\n",
       "</div>"
      ],
      "text/plain": [
       "          delBMI3  delweight3     delUCS3     delRCS3     delECS3\n",
       "count  125.000000  125.000000  125.000000  125.000000  125.000000\n",
       "mean    -2.214945  -35.637363   -5.990106   -3.011695   -6.928477\n",
       "std      0.837528    7.098982    1.596801    1.109690    0.485120\n",
       "min     -4.670995  -64.167623   -9.341278   -5.243920   -8.391300\n",
       "25%     -2.615014  -37.958320   -7.266471   -4.109680   -7.179573\n",
       "50%     -2.226897  -35.242356   -5.952916   -2.922112   -6.973290\n",
       "75%     -1.902653  -32.292248   -4.926754   -1.989212   -6.738794\n",
       "max      0.351176   -4.262517   -2.274408   -0.951565   -5.658094"
      ]
     },
     "execution_count": 36,
     "metadata": {},
     "output_type": "execute_result"
    }
   ],
   "source": [
    "bdel3.describe()"
   ]
  },
  {
   "cell_type": "code",
   "execution_count": 37,
   "id": "3ec78bca",
   "metadata": {},
   "outputs": [],
   "source": [
    "adel1 = df[df['Treatment']=='A'][['delBMI1','delweight1','delUCS1','delRCS1','delECS1']]\n",
    "bdel1 = df[df['Treatment']=='B'][['delBMI1','delweight1','delUCS1','delRCS1','delECS1']]"
   ]
  },
  {
   "cell_type": "code",
   "execution_count": 38,
   "id": "a83aec12",
   "metadata": {},
   "outputs": [
    {
     "data": {
      "text/html": [
       "<div>\n",
       "<style scoped>\n",
       "    .dataframe tbody tr th:only-of-type {\n",
       "        vertical-align: middle;\n",
       "    }\n",
       "\n",
       "    .dataframe tbody tr th {\n",
       "        vertical-align: top;\n",
       "    }\n",
       "\n",
       "    .dataframe thead th {\n",
       "        text-align: right;\n",
       "    }\n",
       "</style>\n",
       "<table border=\"1\" class=\"dataframe\">\n",
       "  <thead>\n",
       "    <tr style=\"text-align: right;\">\n",
       "      <th></th>\n",
       "      <th>delBMI1</th>\n",
       "      <th>delweight1</th>\n",
       "      <th>delUCS1</th>\n",
       "      <th>delRCS1</th>\n",
       "      <th>delECS1</th>\n",
       "    </tr>\n",
       "  </thead>\n",
       "  <tbody>\n",
       "    <tr>\n",
       "      <th>count</th>\n",
       "      <td>125.000000</td>\n",
       "      <td>125.000000</td>\n",
       "      <td>125.000000</td>\n",
       "      <td>125.000000</td>\n",
       "      <td>125.000000</td>\n",
       "    </tr>\n",
       "    <tr>\n",
       "      <th>mean</th>\n",
       "      <td>-0.547092</td>\n",
       "      <td>-17.989834</td>\n",
       "      <td>-3.263563</td>\n",
       "      <td>-1.119544</td>\n",
       "      <td>-1.976488</td>\n",
       "    </tr>\n",
       "    <tr>\n",
       "      <th>std</th>\n",
       "      <td>0.839741</td>\n",
       "      <td>4.384468</td>\n",
       "      <td>1.643541</td>\n",
       "      <td>1.439896</td>\n",
       "      <td>1.174843</td>\n",
       "    </tr>\n",
       "    <tr>\n",
       "      <th>min</th>\n",
       "      <td>-2.601748</td>\n",
       "      <td>-27.593418</td>\n",
       "      <td>-6.849611</td>\n",
       "      <td>-5.282514</td>\n",
       "      <td>-4.805613</td>\n",
       "    </tr>\n",
       "    <tr>\n",
       "      <th>25%</th>\n",
       "      <td>-1.097915</td>\n",
       "      <td>-20.710606</td>\n",
       "      <td>-4.419281</td>\n",
       "      <td>-2.041405</td>\n",
       "      <td>-2.900068</td>\n",
       "    </tr>\n",
       "    <tr>\n",
       "      <th>50%</th>\n",
       "      <td>-0.622613</td>\n",
       "      <td>-18.401667</td>\n",
       "      <td>-3.387867</td>\n",
       "      <td>-0.691343</td>\n",
       "      <td>-1.984734</td>\n",
       "    </tr>\n",
       "    <tr>\n",
       "      <th>75%</th>\n",
       "      <td>-0.063920</td>\n",
       "      <td>-15.069430</td>\n",
       "      <td>-2.230625</td>\n",
       "      <td>-0.238392</td>\n",
       "      <td>-1.065160</td>\n",
       "    </tr>\n",
       "    <tr>\n",
       "      <th>max</th>\n",
       "      <td>1.911744</td>\n",
       "      <td>-3.362865</td>\n",
       "      <td>0.764636</td>\n",
       "      <td>1.896449</td>\n",
       "      <td>1.454731</td>\n",
       "    </tr>\n",
       "  </tbody>\n",
       "</table>\n",
       "</div>"
      ],
      "text/plain": [
       "          delBMI1  delweight1     delUCS1     delRCS1     delECS1\n",
       "count  125.000000  125.000000  125.000000  125.000000  125.000000\n",
       "mean    -0.547092  -17.989834   -3.263563   -1.119544   -1.976488\n",
       "std      0.839741    4.384468    1.643541    1.439896    1.174843\n",
       "min     -2.601748  -27.593418   -6.849611   -5.282514   -4.805613\n",
       "25%     -1.097915  -20.710606   -4.419281   -2.041405   -2.900068\n",
       "50%     -0.622613  -18.401667   -3.387867   -0.691343   -1.984734\n",
       "75%     -0.063920  -15.069430   -2.230625   -0.238392   -1.065160\n",
       "max      1.911744   -3.362865    0.764636    1.896449    1.454731"
      ]
     },
     "execution_count": 38,
     "metadata": {},
     "output_type": "execute_result"
    }
   ],
   "source": [
    "adel1.describe()"
   ]
  },
  {
   "cell_type": "code",
   "execution_count": 39,
   "id": "989126fc",
   "metadata": {},
   "outputs": [
    {
     "data": {
      "text/html": [
       "<div>\n",
       "<style scoped>\n",
       "    .dataframe tbody tr th:only-of-type {\n",
       "        vertical-align: middle;\n",
       "    }\n",
       "\n",
       "    .dataframe tbody tr th {\n",
       "        vertical-align: top;\n",
       "    }\n",
       "\n",
       "    .dataframe thead th {\n",
       "        text-align: right;\n",
       "    }\n",
       "</style>\n",
       "<table border=\"1\" class=\"dataframe\">\n",
       "  <thead>\n",
       "    <tr style=\"text-align: right;\">\n",
       "      <th></th>\n",
       "      <th>delBMI1</th>\n",
       "      <th>delweight1</th>\n",
       "      <th>delUCS1</th>\n",
       "      <th>delRCS1</th>\n",
       "      <th>delECS1</th>\n",
       "    </tr>\n",
       "  </thead>\n",
       "  <tbody>\n",
       "    <tr>\n",
       "      <th>count</th>\n",
       "      <td>125.000000</td>\n",
       "      <td>125.000000</td>\n",
       "      <td>125.000000</td>\n",
       "      <td>125.000000</td>\n",
       "      <td>125.000000</td>\n",
       "    </tr>\n",
       "    <tr>\n",
       "      <th>mean</th>\n",
       "      <td>-0.517816</td>\n",
       "      <td>-18.823119</td>\n",
       "      <td>-2.961473</td>\n",
       "      <td>-1.014402</td>\n",
       "      <td>-2.009011</td>\n",
       "    </tr>\n",
       "    <tr>\n",
       "      <th>std</th>\n",
       "      <td>0.865298</td>\n",
       "      <td>7.685517</td>\n",
       "      <td>1.637374</td>\n",
       "      <td>1.056174</td>\n",
       "      <td>0.444492</td>\n",
       "    </tr>\n",
       "    <tr>\n",
       "      <th>min</th>\n",
       "      <td>-3.145250</td>\n",
       "      <td>-52.816510</td>\n",
       "      <td>-6.478994</td>\n",
       "      <td>-2.949418</td>\n",
       "      <td>-3.408434</td>\n",
       "    </tr>\n",
       "    <tr>\n",
       "      <th>25%</th>\n",
       "      <td>-0.941227</td>\n",
       "      <td>-22.116158</td>\n",
       "      <td>-3.889555</td>\n",
       "      <td>-2.016566</td>\n",
       "      <td>-2.285077</td>\n",
       "    </tr>\n",
       "    <tr>\n",
       "      <th>50%</th>\n",
       "      <td>-0.559448</td>\n",
       "      <td>-17.980811</td>\n",
       "      <td>-2.860334</td>\n",
       "      <td>-0.417787</td>\n",
       "      <td>-2.036631</td>\n",
       "    </tr>\n",
       "    <tr>\n",
       "      <th>75%</th>\n",
       "      <td>-0.133616</td>\n",
       "      <td>-15.544146</td>\n",
       "      <td>-1.919578</td>\n",
       "      <td>-0.014393</td>\n",
       "      <td>-1.790130</td>\n",
       "    </tr>\n",
       "    <tr>\n",
       "      <th>max</th>\n",
       "      <td>2.598464</td>\n",
       "      <td>11.415498</td>\n",
       "      <td>1.158431</td>\n",
       "      <td>0.374476</td>\n",
       "      <td>-0.907556</td>\n",
       "    </tr>\n",
       "  </tbody>\n",
       "</table>\n",
       "</div>"
      ],
      "text/plain": [
       "          delBMI1  delweight1     delUCS1     delRCS1     delECS1\n",
       "count  125.000000  125.000000  125.000000  125.000000  125.000000\n",
       "mean    -0.517816  -18.823119   -2.961473   -1.014402   -2.009011\n",
       "std      0.865298    7.685517    1.637374    1.056174    0.444492\n",
       "min     -3.145250  -52.816510   -6.478994   -2.949418   -3.408434\n",
       "25%     -0.941227  -22.116158   -3.889555   -2.016566   -2.285077\n",
       "50%     -0.559448  -17.980811   -2.860334   -0.417787   -2.036631\n",
       "75%     -0.133616  -15.544146   -1.919578   -0.014393   -1.790130\n",
       "max      2.598464   11.415498    1.158431    0.374476   -0.907556"
      ]
     },
     "execution_count": 39,
     "metadata": {},
     "output_type": "execute_result"
    }
   ],
   "source": [
    "bdel1.describe()"
   ]
  },
  {
   "cell_type": "code",
   "execution_count": 40,
   "id": "58991311",
   "metadata": {},
   "outputs": [],
   "source": [
    "from scipy import stats"
   ]
  },
  {
   "cell_type": "code",
   "execution_count": 41,
   "id": "50c8d814",
   "metadata": {},
   "outputs": [],
   "source": [
    "a = df[df['Treatment']=='A'][['delBMI1', 'delBMI2', 'delBMI3',\n",
    "       'delweight1', 'delweight2', 'delweight3', 'delUCS1', 'delUCS2',\n",
    "       'delUCS3', 'delECS1', 'delECS2', 'delECS3', 'delRCS1', 'delRCS2',\n",
    "       'delRCS3']]\n",
    "b = df[df['Treatment']=='B'][['delBMI1', 'delBMI2', 'delBMI3',\n",
    "       'delweight1', 'delweight2', 'delweight3', 'delUCS1', 'delUCS2',\n",
    "       'delUCS3', 'delECS1', 'delECS2', 'delECS3', 'delRCS1', 'delRCS2',\n",
    "       'delRCS3']]"
   ]
  },
  {
   "cell_type": "code",
   "execution_count": 42,
   "id": "548deace",
   "metadata": {},
   "outputs": [
    {
     "data": {
      "text/html": [
       "<div>\n",
       "<style scoped>\n",
       "    .dataframe tbody tr th:only-of-type {\n",
       "        vertical-align: middle;\n",
       "    }\n",
       "\n",
       "    .dataframe tbody tr th {\n",
       "        vertical-align: top;\n",
       "    }\n",
       "\n",
       "    .dataframe thead th {\n",
       "        text-align: right;\n",
       "    }\n",
       "</style>\n",
       "<table border=\"1\" class=\"dataframe\">\n",
       "  <thead>\n",
       "    <tr style=\"text-align: right;\">\n",
       "      <th></th>\n",
       "      <th>delBMI1</th>\n",
       "      <th>delBMI2</th>\n",
       "      <th>delBMI3</th>\n",
       "      <th>delweight1</th>\n",
       "      <th>delweight2</th>\n",
       "      <th>delweight3</th>\n",
       "      <th>delUCS1</th>\n",
       "      <th>delUCS2</th>\n",
       "      <th>delUCS3</th>\n",
       "      <th>delECS1</th>\n",
       "      <th>delECS2</th>\n",
       "      <th>delECS3</th>\n",
       "      <th>delRCS1</th>\n",
       "      <th>delRCS2</th>\n",
       "      <th>delRCS3</th>\n",
       "    </tr>\n",
       "  </thead>\n",
       "  <tbody>\n",
       "    <tr>\n",
       "      <th>0</th>\n",
       "      <td>-2.409651</td>\n",
       "      <td>-4.083085</td>\n",
       "      <td>-3.049315</td>\n",
       "      <td>-20.923067</td>\n",
       "      <td>-34.656921</td>\n",
       "      <td>-35.626737</td>\n",
       "      <td>-3.933703</td>\n",
       "      <td>-6.261494</td>\n",
       "      <td>-8.732289</td>\n",
       "      <td>0.316057</td>\n",
       "      <td>-1.271781</td>\n",
       "      <td>-4.462381</td>\n",
       "      <td>-0.562701</td>\n",
       "      <td>-2.005534</td>\n",
       "      <td>-5.063896</td>\n",
       "    </tr>\n",
       "    <tr>\n",
       "      <th>1</th>\n",
       "      <td>-1.579713</td>\n",
       "      <td>-2.963912</td>\n",
       "      <td>-2.242491</td>\n",
       "      <td>-18.113343</td>\n",
       "      <td>-33.933872</td>\n",
       "      <td>-37.479454</td>\n",
       "      <td>-2.060509</td>\n",
       "      <td>-4.999746</td>\n",
       "      <td>-7.270702</td>\n",
       "      <td>-2.209541</td>\n",
       "      <td>-2.799407</td>\n",
       "      <td>-7.402028</td>\n",
       "      <td>-4.284766</td>\n",
       "      <td>-4.966430</td>\n",
       "      <td>-5.800537</td>\n",
       "    </tr>\n",
       "    <tr>\n",
       "      <th>2</th>\n",
       "      <td>-0.063920</td>\n",
       "      <td>-1.997421</td>\n",
       "      <td>-2.139960</td>\n",
       "      <td>-18.935762</td>\n",
       "      <td>-37.028695</td>\n",
       "      <td>-36.772465</td>\n",
       "      <td>-3.614057</td>\n",
       "      <td>-7.231496</td>\n",
       "      <td>-6.528457</td>\n",
       "      <td>-3.486566</td>\n",
       "      <td>-4.666462</td>\n",
       "      <td>-6.197926</td>\n",
       "      <td>0.138239</td>\n",
       "      <td>-2.815101</td>\n",
       "      <td>-4.612538</td>\n",
       "    </tr>\n",
       "    <tr>\n",
       "      <th>3</th>\n",
       "      <td>-0.159789</td>\n",
       "      <td>-2.623973</td>\n",
       "      <td>-1.821191</td>\n",
       "      <td>-25.074410</td>\n",
       "      <td>-35.246795</td>\n",
       "      <td>-37.473124</td>\n",
       "      <td>-4.116454</td>\n",
       "      <td>-6.243020</td>\n",
       "      <td>-5.683841</td>\n",
       "      <td>-2.939516</td>\n",
       "      <td>-2.813163</td>\n",
       "      <td>-6.363154</td>\n",
       "      <td>-3.224637</td>\n",
       "      <td>-3.589701</td>\n",
       "      <td>-4.862849</td>\n",
       "    </tr>\n",
       "    <tr>\n",
       "      <th>4</th>\n",
       "      <td>-0.774333</td>\n",
       "      <td>-1.132271</td>\n",
       "      <td>-1.611094</td>\n",
       "      <td>-24.464243</td>\n",
       "      <td>-28.104489</td>\n",
       "      <td>-39.962172</td>\n",
       "      <td>-3.192134</td>\n",
       "      <td>-6.100859</td>\n",
       "      <td>-8.300085</td>\n",
       "      <td>-3.515449</td>\n",
       "      <td>-4.611292</td>\n",
       "      <td>-7.963958</td>\n",
       "      <td>-2.368702</td>\n",
       "      <td>-3.732605</td>\n",
       "      <td>-3.638673</td>\n",
       "    </tr>\n",
       "    <tr>\n",
       "      <th>...</th>\n",
       "      <td>...</td>\n",
       "      <td>...</td>\n",
       "      <td>...</td>\n",
       "      <td>...</td>\n",
       "      <td>...</td>\n",
       "      <td>...</td>\n",
       "      <td>...</td>\n",
       "      <td>...</td>\n",
       "      <td>...</td>\n",
       "      <td>...</td>\n",
       "      <td>...</td>\n",
       "      <td>...</td>\n",
       "      <td>...</td>\n",
       "      <td>...</td>\n",
       "      <td>...</td>\n",
       "    </tr>\n",
       "    <tr>\n",
       "      <th>119</th>\n",
       "      <td>-0.834157</td>\n",
       "      <td>-3.120943</td>\n",
       "      <td>-2.749188</td>\n",
       "      <td>-20.060736</td>\n",
       "      <td>-27.911071</td>\n",
       "      <td>-36.955117</td>\n",
       "      <td>-5.034052</td>\n",
       "      <td>-8.740016</td>\n",
       "      <td>-9.534107</td>\n",
       "      <td>-1.692756</td>\n",
       "      <td>-3.365660</td>\n",
       "      <td>-6.442105</td>\n",
       "      <td>-0.469827</td>\n",
       "      <td>-4.299627</td>\n",
       "      <td>-3.687849</td>\n",
       "    </tr>\n",
       "    <tr>\n",
       "      <th>120</th>\n",
       "      <td>-1.363279</td>\n",
       "      <td>-2.716548</td>\n",
       "      <td>-2.309479</td>\n",
       "      <td>-25.577524</td>\n",
       "      <td>-29.756979</td>\n",
       "      <td>-36.108341</td>\n",
       "      <td>-4.516597</td>\n",
       "      <td>-5.799289</td>\n",
       "      <td>-8.677180</td>\n",
       "      <td>-1.921544</td>\n",
       "      <td>-3.775143</td>\n",
       "      <td>-5.679275</td>\n",
       "      <td>-0.597283</td>\n",
       "      <td>-3.048082</td>\n",
       "      <td>-3.923521</td>\n",
       "    </tr>\n",
       "    <tr>\n",
       "      <th>121</th>\n",
       "      <td>0.039770</td>\n",
       "      <td>-0.813583</td>\n",
       "      <td>-1.808312</td>\n",
       "      <td>-13.219881</td>\n",
       "      <td>-33.797890</td>\n",
       "      <td>-33.511404</td>\n",
       "      <td>-2.632534</td>\n",
       "      <td>-3.875710</td>\n",
       "      <td>-6.688996</td>\n",
       "      <td>-0.495712</td>\n",
       "      <td>-2.326112</td>\n",
       "      <td>-4.749918</td>\n",
       "      <td>-0.145226</td>\n",
       "      <td>-2.180287</td>\n",
       "      <td>-5.222164</td>\n",
       "    </tr>\n",
       "    <tr>\n",
       "      <th>123</th>\n",
       "      <td>-0.929627</td>\n",
       "      <td>-2.634033</td>\n",
       "      <td>-2.667142</td>\n",
       "      <td>-22.276897</td>\n",
       "      <td>-35.253981</td>\n",
       "      <td>-36.752790</td>\n",
       "      <td>-4.949774</td>\n",
       "      <td>-5.492675</td>\n",
       "      <td>-5.469255</td>\n",
       "      <td>-3.233643</td>\n",
       "      <td>-4.510435</td>\n",
       "      <td>-6.320315</td>\n",
       "      <td>-0.691343</td>\n",
       "      <td>-2.127264</td>\n",
       "      <td>-4.597403</td>\n",
       "    </tr>\n",
       "    <tr>\n",
       "      <th>124</th>\n",
       "      <td>-0.951521</td>\n",
       "      <td>-1.866631</td>\n",
       "      <td>-2.381927</td>\n",
       "      <td>-18.789636</td>\n",
       "      <td>-30.594648</td>\n",
       "      <td>-30.668137</td>\n",
       "      <td>-2.932582</td>\n",
       "      <td>-4.651022</td>\n",
       "      <td>-5.859151</td>\n",
       "      <td>-2.098403</td>\n",
       "      <td>-6.082160</td>\n",
       "      <td>-7.362612</td>\n",
       "      <td>-0.909690</td>\n",
       "      <td>-4.837146</td>\n",
       "      <td>-6.797091</td>\n",
       "    </tr>\n",
       "  </tbody>\n",
       "</table>\n",
       "<p>122 rows × 15 columns</p>\n",
       "</div>"
      ],
      "text/plain": [
       "      delBMI1   delBMI2   delBMI3  delweight1  delweight2  delweight3  \\\n",
       "0   -2.409651 -4.083085 -3.049315  -20.923067  -34.656921  -35.626737   \n",
       "1   -1.579713 -2.963912 -2.242491  -18.113343  -33.933872  -37.479454   \n",
       "2   -0.063920 -1.997421 -2.139960  -18.935762  -37.028695  -36.772465   \n",
       "3   -0.159789 -2.623973 -1.821191  -25.074410  -35.246795  -37.473124   \n",
       "4   -0.774333 -1.132271 -1.611094  -24.464243  -28.104489  -39.962172   \n",
       "..        ...       ...       ...         ...         ...         ...   \n",
       "119 -0.834157 -3.120943 -2.749188  -20.060736  -27.911071  -36.955117   \n",
       "120 -1.363279 -2.716548 -2.309479  -25.577524  -29.756979  -36.108341   \n",
       "121  0.039770 -0.813583 -1.808312  -13.219881  -33.797890  -33.511404   \n",
       "123 -0.929627 -2.634033 -2.667142  -22.276897  -35.253981  -36.752790   \n",
       "124 -0.951521 -1.866631 -2.381927  -18.789636  -30.594648  -30.668137   \n",
       "\n",
       "      delUCS1   delUCS2   delUCS3   delECS1   delECS2   delECS3   delRCS1  \\\n",
       "0   -3.933703 -6.261494 -8.732289  0.316057 -1.271781 -4.462381 -0.562701   \n",
       "1   -2.060509 -4.999746 -7.270702 -2.209541 -2.799407 -7.402028 -4.284766   \n",
       "2   -3.614057 -7.231496 -6.528457 -3.486566 -4.666462 -6.197926  0.138239   \n",
       "3   -4.116454 -6.243020 -5.683841 -2.939516 -2.813163 -6.363154 -3.224637   \n",
       "4   -3.192134 -6.100859 -8.300085 -3.515449 -4.611292 -7.963958 -2.368702   \n",
       "..        ...       ...       ...       ...       ...       ...       ...   \n",
       "119 -5.034052 -8.740016 -9.534107 -1.692756 -3.365660 -6.442105 -0.469827   \n",
       "120 -4.516597 -5.799289 -8.677180 -1.921544 -3.775143 -5.679275 -0.597283   \n",
       "121 -2.632534 -3.875710 -6.688996 -0.495712 -2.326112 -4.749918 -0.145226   \n",
       "123 -4.949774 -5.492675 -5.469255 -3.233643 -4.510435 -6.320315 -0.691343   \n",
       "124 -2.932582 -4.651022 -5.859151 -2.098403 -6.082160 -7.362612 -0.909690   \n",
       "\n",
       "      delRCS2   delRCS3  \n",
       "0   -2.005534 -5.063896  \n",
       "1   -4.966430 -5.800537  \n",
       "2   -2.815101 -4.612538  \n",
       "3   -3.589701 -4.862849  \n",
       "4   -3.732605 -3.638673  \n",
       "..        ...       ...  \n",
       "119 -4.299627 -3.687849  \n",
       "120 -3.048082 -3.923521  \n",
       "121 -2.180287 -5.222164  \n",
       "123 -2.127264 -4.597403  \n",
       "124 -4.837146 -6.797091  \n",
       "\n",
       "[122 rows x 15 columns]"
      ]
     },
     "execution_count": 42,
     "metadata": {},
     "output_type": "execute_result"
    }
   ],
   "source": [
    "a[(np.abs(stats.zscore(a)) < 3).all(axis=1)]"
   ]
  },
  {
   "cell_type": "code",
   "execution_count": 43,
   "id": "873bfb7b",
   "metadata": {},
   "outputs": [
    {
     "data": {
      "text/html": [
       "<div>\n",
       "<style scoped>\n",
       "    .dataframe tbody tr th:only-of-type {\n",
       "        vertical-align: middle;\n",
       "    }\n",
       "\n",
       "    .dataframe tbody tr th {\n",
       "        vertical-align: top;\n",
       "    }\n",
       "\n",
       "    .dataframe thead th {\n",
       "        text-align: right;\n",
       "    }\n",
       "</style>\n",
       "<table border=\"1\" class=\"dataframe\">\n",
       "  <thead>\n",
       "    <tr style=\"text-align: right;\">\n",
       "      <th></th>\n",
       "      <th>delBMI1</th>\n",
       "      <th>delBMI2</th>\n",
       "      <th>delBMI3</th>\n",
       "      <th>delweight1</th>\n",
       "      <th>delweight2</th>\n",
       "      <th>delweight3</th>\n",
       "      <th>delUCS1</th>\n",
       "      <th>delUCS2</th>\n",
       "      <th>delUCS3</th>\n",
       "      <th>delECS1</th>\n",
       "      <th>delECS2</th>\n",
       "      <th>delECS3</th>\n",
       "      <th>delRCS1</th>\n",
       "      <th>delRCS2</th>\n",
       "      <th>delRCS3</th>\n",
       "    </tr>\n",
       "  </thead>\n",
       "  <tbody>\n",
       "    <tr>\n",
       "      <th>125</th>\n",
       "      <td>-1.052862</td>\n",
       "      <td>0.137311</td>\n",
       "      <td>-2.113708</td>\n",
       "      <td>-25.527231</td>\n",
       "      <td>-34.321933</td>\n",
       "      <td>-39.843629</td>\n",
       "      <td>-4.075087</td>\n",
       "      <td>-3.322890</td>\n",
       "      <td>-5.416475</td>\n",
       "      <td>-1.470704</td>\n",
       "      <td>-3.190342</td>\n",
       "      <td>-7.028512</td>\n",
       "      <td>0.174875</td>\n",
       "      <td>-1.178188</td>\n",
       "      <td>-2.092531</td>\n",
       "    </tr>\n",
       "    <tr>\n",
       "      <th>126</th>\n",
       "      <td>-0.799863</td>\n",
       "      <td>-1.955976</td>\n",
       "      <td>-2.499579</td>\n",
       "      <td>-26.986274</td>\n",
       "      <td>-35.363328</td>\n",
       "      <td>-34.585841</td>\n",
       "      <td>-2.846198</td>\n",
       "      <td>-5.289144</td>\n",
       "      <td>-6.265437</td>\n",
       "      <td>-1.426461</td>\n",
       "      <td>-3.736403</td>\n",
       "      <td>-6.633825</td>\n",
       "      <td>0.142296</td>\n",
       "      <td>-0.746685</td>\n",
       "      <td>-1.721525</td>\n",
       "    </tr>\n",
       "    <tr>\n",
       "      <th>127</th>\n",
       "      <td>-1.141704</td>\n",
       "      <td>-2.043962</td>\n",
       "      <td>-2.270251</td>\n",
       "      <td>-28.933780</td>\n",
       "      <td>-32.695964</td>\n",
       "      <td>-39.289338</td>\n",
       "      <td>-2.719804</td>\n",
       "      <td>-4.907696</td>\n",
       "      <td>-5.780083</td>\n",
       "      <td>-2.049090</td>\n",
       "      <td>-3.883661</td>\n",
       "      <td>-7.006415</td>\n",
       "      <td>-0.300318</td>\n",
       "      <td>-0.923654</td>\n",
       "      <td>-1.864870</td>\n",
       "    </tr>\n",
       "    <tr>\n",
       "      <th>129</th>\n",
       "      <td>0.303993</td>\n",
       "      <td>-0.177782</td>\n",
       "      <td>-2.027065</td>\n",
       "      <td>-18.902249</td>\n",
       "      <td>-34.568392</td>\n",
       "      <td>-40.075042</td>\n",
       "      <td>-2.285280</td>\n",
       "      <td>-6.747284</td>\n",
       "      <td>-8.109324</td>\n",
       "      <td>-1.459975</td>\n",
       "      <td>-3.986190</td>\n",
       "      <td>-6.911623</td>\n",
       "      <td>0.268126</td>\n",
       "      <td>-1.094019</td>\n",
       "      <td>-2.041005</td>\n",
       "    </tr>\n",
       "    <tr>\n",
       "      <th>130</th>\n",
       "      <td>-0.129348</td>\n",
       "      <td>-1.437803</td>\n",
       "      <td>-1.794049</td>\n",
       "      <td>-17.980811</td>\n",
       "      <td>-25.266386</td>\n",
       "      <td>-36.169855</td>\n",
       "      <td>-4.551929</td>\n",
       "      <td>-6.008085</td>\n",
       "      <td>-7.743854</td>\n",
       "      <td>-1.934979</td>\n",
       "      <td>-3.855184</td>\n",
       "      <td>-6.138385</td>\n",
       "      <td>-0.086213</td>\n",
       "      <td>-0.934939</td>\n",
       "      <td>-1.958304</td>\n",
       "    </tr>\n",
       "    <tr>\n",
       "      <th>...</th>\n",
       "      <td>...</td>\n",
       "      <td>...</td>\n",
       "      <td>...</td>\n",
       "      <td>...</td>\n",
       "      <td>...</td>\n",
       "      <td>...</td>\n",
       "      <td>...</td>\n",
       "      <td>...</td>\n",
       "      <td>...</td>\n",
       "      <td>...</td>\n",
       "      <td>...</td>\n",
       "      <td>...</td>\n",
       "      <td>...</td>\n",
       "      <td>...</td>\n",
       "      <td>...</td>\n",
       "    </tr>\n",
       "    <tr>\n",
       "      <th>244</th>\n",
       "      <td>-0.791475</td>\n",
       "      <td>-2.301468</td>\n",
       "      <td>-2.615014</td>\n",
       "      <td>-14.778024</td>\n",
       "      <td>-23.956773</td>\n",
       "      <td>-32.134515</td>\n",
       "      <td>-2.214685</td>\n",
       "      <td>-3.672070</td>\n",
       "      <td>-4.706997</td>\n",
       "      <td>-0.917234</td>\n",
       "      <td>-3.928512</td>\n",
       "      <td>-5.995105</td>\n",
       "      <td>-2.401085</td>\n",
       "      <td>-3.458119</td>\n",
       "      <td>-3.957420</td>\n",
       "    </tr>\n",
       "    <tr>\n",
       "      <th>245</th>\n",
       "      <td>-1.241930</td>\n",
       "      <td>-1.918928</td>\n",
       "      <td>-2.451764</td>\n",
       "      <td>-26.206172</td>\n",
       "      <td>-36.654584</td>\n",
       "      <td>-41.764635</td>\n",
       "      <td>-4.691519</td>\n",
       "      <td>-7.865569</td>\n",
       "      <td>-7.521558</td>\n",
       "      <td>-1.583233</td>\n",
       "      <td>-4.139153</td>\n",
       "      <td>-7.041308</td>\n",
       "      <td>-1.596843</td>\n",
       "      <td>-3.152542</td>\n",
       "      <td>-3.326727</td>\n",
       "    </tr>\n",
       "    <tr>\n",
       "      <th>247</th>\n",
       "      <td>-0.609396</td>\n",
       "      <td>-1.834149</td>\n",
       "      <td>-2.664980</td>\n",
       "      <td>-10.925478</td>\n",
       "      <td>-29.339289</td>\n",
       "      <td>-33.479354</td>\n",
       "      <td>-3.119975</td>\n",
       "      <td>-5.760487</td>\n",
       "      <td>-6.235596</td>\n",
       "      <td>-1.888345</td>\n",
       "      <td>-4.088223</td>\n",
       "      <td>-7.057396</td>\n",
       "      <td>-2.393953</td>\n",
       "      <td>-2.829083</td>\n",
       "      <td>-3.600463</td>\n",
       "    </tr>\n",
       "    <tr>\n",
       "      <th>248</th>\n",
       "      <td>-0.989742</td>\n",
       "      <td>-0.406665</td>\n",
       "      <td>-3.122376</td>\n",
       "      <td>-20.288849</td>\n",
       "      <td>-34.967430</td>\n",
       "      <td>-37.358026</td>\n",
       "      <td>-5.960916</td>\n",
       "      <td>-6.700781</td>\n",
       "      <td>-8.052285</td>\n",
       "      <td>-2.109030</td>\n",
       "      <td>-4.306875</td>\n",
       "      <td>-6.795106</td>\n",
       "      <td>-0.074986</td>\n",
       "      <td>-1.013576</td>\n",
       "      <td>-1.838727</td>\n",
       "    </tr>\n",
       "    <tr>\n",
       "      <th>249</th>\n",
       "      <td>-0.295971</td>\n",
       "      <td>-2.258533</td>\n",
       "      <td>-2.873015</td>\n",
       "      <td>-28.568496</td>\n",
       "      <td>-32.855107</td>\n",
       "      <td>-41.535949</td>\n",
       "      <td>-1.446523</td>\n",
       "      <td>-4.176405</td>\n",
       "      <td>-6.347337</td>\n",
       "      <td>-1.634737</td>\n",
       "      <td>-3.750716</td>\n",
       "      <td>-7.048289</td>\n",
       "      <td>0.133529</td>\n",
       "      <td>-0.892489</td>\n",
       "      <td>-1.831092</td>\n",
       "    </tr>\n",
       "  </tbody>\n",
       "</table>\n",
       "<p>109 rows × 15 columns</p>\n",
       "</div>"
      ],
      "text/plain": [
       "      delBMI1   delBMI2   delBMI3  delweight1  delweight2  delweight3  \\\n",
       "125 -1.052862  0.137311 -2.113708  -25.527231  -34.321933  -39.843629   \n",
       "126 -0.799863 -1.955976 -2.499579  -26.986274  -35.363328  -34.585841   \n",
       "127 -1.141704 -2.043962 -2.270251  -28.933780  -32.695964  -39.289338   \n",
       "129  0.303993 -0.177782 -2.027065  -18.902249  -34.568392  -40.075042   \n",
       "130 -0.129348 -1.437803 -1.794049  -17.980811  -25.266386  -36.169855   \n",
       "..        ...       ...       ...         ...         ...         ...   \n",
       "244 -0.791475 -2.301468 -2.615014  -14.778024  -23.956773  -32.134515   \n",
       "245 -1.241930 -1.918928 -2.451764  -26.206172  -36.654584  -41.764635   \n",
       "247 -0.609396 -1.834149 -2.664980  -10.925478  -29.339289  -33.479354   \n",
       "248 -0.989742 -0.406665 -3.122376  -20.288849  -34.967430  -37.358026   \n",
       "249 -0.295971 -2.258533 -2.873015  -28.568496  -32.855107  -41.535949   \n",
       "\n",
       "      delUCS1   delUCS2   delUCS3   delECS1   delECS2   delECS3   delRCS1  \\\n",
       "125 -4.075087 -3.322890 -5.416475 -1.470704 -3.190342 -7.028512  0.174875   \n",
       "126 -2.846198 -5.289144 -6.265437 -1.426461 -3.736403 -6.633825  0.142296   \n",
       "127 -2.719804 -4.907696 -5.780083 -2.049090 -3.883661 -7.006415 -0.300318   \n",
       "129 -2.285280 -6.747284 -8.109324 -1.459975 -3.986190 -6.911623  0.268126   \n",
       "130 -4.551929 -6.008085 -7.743854 -1.934979 -3.855184 -6.138385 -0.086213   \n",
       "..        ...       ...       ...       ...       ...       ...       ...   \n",
       "244 -2.214685 -3.672070 -4.706997 -0.917234 -3.928512 -5.995105 -2.401085   \n",
       "245 -4.691519 -7.865569 -7.521558 -1.583233 -4.139153 -7.041308 -1.596843   \n",
       "247 -3.119975 -5.760487 -6.235596 -1.888345 -4.088223 -7.057396 -2.393953   \n",
       "248 -5.960916 -6.700781 -8.052285 -2.109030 -4.306875 -6.795106 -0.074986   \n",
       "249 -1.446523 -4.176405 -6.347337 -1.634737 -3.750716 -7.048289  0.133529   \n",
       "\n",
       "      delRCS2   delRCS3  \n",
       "125 -1.178188 -2.092531  \n",
       "126 -0.746685 -1.721525  \n",
       "127 -0.923654 -1.864870  \n",
       "129 -1.094019 -2.041005  \n",
       "130 -0.934939 -1.958304  \n",
       "..        ...       ...  \n",
       "244 -3.458119 -3.957420  \n",
       "245 -3.152542 -3.326727  \n",
       "247 -2.829083 -3.600463  \n",
       "248 -1.013576 -1.838727  \n",
       "249 -0.892489 -1.831092  \n",
       "\n",
       "[109 rows x 15 columns]"
      ]
     },
     "execution_count": 43,
     "metadata": {},
     "output_type": "execute_result"
    }
   ],
   "source": [
    "b[(np.abs(stats.zscore(b)) < 3).all(axis=1)]"
   ]
  },
  {
   "cell_type": "code",
   "execution_count": 44,
   "id": "13584a07",
   "metadata": {},
   "outputs": [],
   "source": [
    "import seaborn as sns"
   ]
  },
  {
   "cell_type": "code",
   "execution_count": 45,
   "id": "e6334f29",
   "metadata": {},
   "outputs": [
    {
     "name": "stderr",
     "output_type": "stream",
     "text": [
      "/opt/anaconda3/lib/python3.9/site-packages/seaborn/_decorators.py:36: FutureWarning: Pass the following variable as a keyword arg: x. From version 0.12, the only valid positional argument will be `data`, and passing other arguments without an explicit keyword will result in an error or misinterpretation.\n",
      "  warnings.warn(\n"
     ]
    },
    {
     "data": {
      "text/plain": [
       "<AxesSubplot:xlabel='Country', ylabel='count'>"
      ]
     },
     "execution_count": 45,
     "metadata": {},
     "output_type": "execute_result"
    },
    {
     "data": {
      "image/png": "[encoded data removed]",
      "text/plain": [
       "<Figure size 640x480 with 1 Axes>"
      ]
     },
     "metadata": {},
     "output_type": "display_data"
    }
   ],
   "source": [
    "sns.countplot(df['Country'],hue=df['Treatment'])"
   ]
  },
  {
   "cell_type": "code",
   "execution_count": 46,
   "id": "495359d7",
   "metadata": {},
   "outputs": [
    {
     "name": "stderr",
     "output_type": "stream",
     "text": [
      "/opt/anaconda3/lib/python3.9/site-packages/seaborn/_decorators.py:36: FutureWarning: Pass the following variable as a keyword arg: x. From version 0.12, the only valid positional argument will be `data`, and passing other arguments without an explicit keyword will result in an error or misinterpretation.\n",
      "  warnings.warn(\n"
     ]
    },
    {
     "data": {
      "text/plain": [
       "<AxesSubplot:xlabel='Age', ylabel='count'>"
      ]
     },
     "execution_count": 46,
     "metadata": {},
     "output_type": "execute_result"
    },
    {
     "data": {
      "image/png": "[encoded data removed]",
      "text/plain": [
       "<Figure size 640x480 with 1 Axes>"
      ]
     },
     "metadata": {},
     "output_type": "display_data"
    }
   ],
   "source": [
    "sns.countplot(df['Age'],hue=df['Treatment'])"
   ]
  },
  {
   "cell_type": "code",
   "execution_count": 47,
   "id": "c1a0b141",
   "metadata": {},
   "outputs": [
    {
     "name": "stdout",
     "output_type": "stream",
     "text": [
      "T test results for delBMI1: statistic=-0.27145481137202443, p-value=0.7862670746713896\n",
      "T test results for delBMI2: statistic=-0.49416356848299026, p-value=0.6216280791216016\n",
      "T test results for delBMI3: statistic=-0.2010701027337739, p-value=0.8408085688507531\n",
      "T test results for delweight1: statistic=1.0529147727518648, p-value=0.29340484206495043\n",
      "T test results for delweight2: statistic=1.7453726310824262, p-value=0.08215853994596303\n",
      "T test results for delweight3: statistic=1.0836821407820632, p-value=0.27955818749569017\n",
      "T test results for delUCS1: statistic=-1.45583080797696, p-value=0.1467041289944388\n",
      "T test results for delUCS2: statistic=-1.4930247801073924, p-value=0.1367017895925435\n",
      "T test results for delUCS3: statistic=-2.0941035694075807, p-value=0.03726614600648529\n",
      "T test results for delECS1: statistic=0.289478434956063, p-value=0.772457139043463\n",
      "T test results for delECS2: statistic=-0.858451051336861, p-value=0.3914723697590843\n",
      "T test results for delECS3: statistic=-1.172955208703728, p-value=0.24193914212843506\n",
      "T test results for delRCS1: statistic=-0.6582937182672304, p-value=0.5109600481072019\n",
      "T test results for delRCS2: statistic=-7.219413202884476, p-value=6.367412164255808e-12\n",
      "T test results for delRCS3: statistic=-13.88185385037525, p-value=8.303264279223658e-33\n"
     ]
    }
   ],
   "source": [
    "import scipy.stats as stats\n",
    "for i in a.columns:\n",
    "    acol = a[i]\n",
    "    bcol = b[i]\n",
    "    stat, p = stats.ttest_ind(acol,bcol,equal_var=True)\n",
    "    print('T test results for {}: statistic={}, p-value={}'.format(i,stat,p))"
   ]
  },
  {
   "cell_type": "code",
   "execution_count": 48,
   "id": "eb419505",
   "metadata": {},
   "outputs": [
    {
     "name": "stdout",
     "output_type": "stream",
     "text": [
      "T test results for delBMI1: statistic=-0.27145481137202443, p-value=0.7860412505566485\n",
      "There is no significant difference in means of delBMI1\n",
      "\n",
      "T test results for delBMI2: statistic=-0.49416356848299026, p-value=0.6211906666097126\n",
      "There is no significant difference in means of delBMI2\n",
      "\n",
      "T test results for delBMI3: statistic=-0.2010701027337739, p-value=0.8406437591215671\n",
      "There is no significant difference in means of delBMI3\n",
      "\n",
      "T test results for delweight1: statistic=1.0529147727518648, p-value=0.2923800548634342\n",
      "There is no significant difference in means of delweight1\n",
      "\n",
      "T test results for delweight2: statistic=1.7453726310824265, p-value=0.08092002655146581\n",
      "There is no significant difference in means of delweight2\n",
      "\n",
      "T test results for delweight3: statistic=1.0836821407820632, p-value=0.2785057567718817\n",
      "There is no significant difference in means of delweight3\n",
      "\n",
      "T test results for delUCS1: statistic=-1.45583080797696, p-value=0.14543939691354163\n",
      "There is no significant difference in means of delUCS1\n",
      "\n",
      "T test results for delUCS2: statistic=-1.4930247801073924, p-value=0.1354307005064998\n",
      "There is no significant difference in means of delUCS2\n",
      "\n",
      "T test results for delUCS3: statistic=-2.0941035694075807, p-value=0.03625075518545389\n",
      "There is a significant difference in the means of delUCS3\n",
      "\n",
      "T test results for delECS1: statistic=0.289478434956063, p-value=0.7722152802194706\n",
      "There is no significant difference in means of delECS1\n",
      "\n",
      "T test results for delECS2: statistic=-0.858451051336861, p-value=0.3906434481417652\n",
      "There is no significant difference in means of delECS2\n",
      "\n",
      "T test results for delECS3: statistic=-1.172955208703728, p-value=0.24081376815778788\n",
      "There is no significant difference in means of delECS3\n",
      "\n",
      "T test results for delRCS1: statistic=-0.6582937182672304, p-value=0.510349413683517\n",
      "There is no significant difference in means of delRCS1\n",
      "\n",
      "T test results for delRCS2: statistic=-7.219413202884476, p-value=5.221238138600818e-13\n",
      "There is a significant difference in the means of delRCS2\n",
      "\n",
      "T test results for delRCS3: statistic=-13.88185385037525, p-value=8.160565529033895e-44\n",
      "There is a significant difference in the means of delRCS3\n",
      "\n"
     ]
    }
   ],
   "source": [
    "from statsmodels.stats.weightstats import ztest as ztest\n",
    "for i in a.columns:\n",
    "    acol = a[i]\n",
    "    bcol = b[i]\n",
    "    stat, p = ztest(acol,bcol)\n",
    "    print('T test results for {}: statistic={}, p-value={}'.format(i,stat,p))\n",
    "    if p>0.05:\n",
    "        print('There is no significant difference in means of {}'.format(i))\n",
    "        print()\n",
    "    else:\n",
    "        print('There is a significant difference in the means of {}'.format(i))\n",
    "        print()"
   ]
  },
  {
   "cell_type": "code",
   "execution_count": 49,
   "id": "9451c122",
   "metadata": {},
   "outputs": [],
   "source": [
    "sid = pd.read_excel('DQ2.xlsx')"
   ]
  },
  {
   "cell_type": "code",
   "execution_count": 50,
   "id": "73128484",
   "metadata": {},
   "outputs": [
    {
     "data": {
      "text/plain": [
       "Index(['ID', 'Treatment', 'Gender', 'Age', 'BMI', 'income', 'base_weight',\n",
       "       'weight_one', 'weight_two', 'weight_three', 'wgt_1b', 'wgt_21',\n",
       "       'wgt_32', 'Race', 'Country', 'ucs_base', 'ucs_one', 'ucs_two',\n",
       "       'ucs_three', 'ucs_1b', 'ucs_21', 'ucs_32', 'ecs_base', 'ecs_one',\n",
       "       'ecs_two', 'ecs_three', 'ecs_1b', 'ecs_21', 'ecs_32', 'rcs_base',\n",
       "       'rcs_one', 'rcs_two', 'rcs_three', 'rcs_1b', 'rcs_21', 'rcs_32'],\n",
       "      dtype='object')"
      ]
     },
     "execution_count": 50,
     "metadata": {},
     "output_type": "execute_result"
    }
   ],
   "source": [
    "sid.columns"
   ]
  },
  {
   "cell_type": "code",
   "execution_count": 51,
   "id": "97b7683e",
   "metadata": {},
   "outputs": [],
   "source": [
    "asid = sid[sid['Treatment']=='A'][['wgt_1b', 'wgt_21',\n",
    "       'wgt_32','ucs_1b', 'ucs_21', 'ucs_32', 'ecs_1b', 'ecs_21', \n",
    "                                   'ecs_32', 'rcs_1b', 'rcs_21', 'rcs_32']]\n",
    "bsid = sid[sid['Treatment']=='B'][['wgt_1b', 'wgt_21',\n",
    "       'wgt_32','ucs_1b', 'ucs_21', 'ucs_32', 'ecs_1b', 'ecs_21', \n",
    "                                   'ecs_32', 'rcs_1b', 'rcs_21', 'rcs_32']]"
   ]
  },
  {
   "cell_type": "code",
   "execution_count": 52,
   "id": "f36fc2c7",
   "metadata": {},
   "outputs": [
    {
     "name": "stdout",
     "output_type": "stream",
     "text": [
      "T test results for wgt_1b: statistic=3.5551841298992506, p-value=0.0003777144771736801\n",
      "There is a significant difference in the means of wgt_1b\n",
      "\n",
      "T test results for wgt_21: statistic=2.823779813586582, p-value=0.004746097767007163\n",
      "There is a significant difference in the means of wgt_21\n",
      "\n",
      "T test results for wgt_32: statistic=0.07792104203096069, p-value=0.9378908611789325\n",
      "There is no significant difference in means of wgt_32\n",
      "\n",
      "T test results for ucs_1b: statistic=1.1802966608348588, p-value=0.23788224576342354\n",
      "There is no significant difference in means of ucs_1b\n",
      "\n",
      "T test results for ucs_21: statistic=1.7970638969598043, p-value=0.07232547640805322\n",
      "There is no significant difference in means of ucs_21\n",
      "\n",
      "T test results for ucs_32: statistic=0.5845109763334599, p-value=0.5588765826533022\n",
      "There is no significant difference in means of ucs_32\n",
      "\n",
      "T test results for ecs_1b: statistic=6.3588730285147435, p-value=2.0323931275930866e-10\n",
      "There is a significant difference in the means of ecs_1b\n",
      "\n",
      "T test results for ecs_21: statistic=5.72839175645114, p-value=1.013872130614442e-08\n",
      "There is a significant difference in the means of ecs_21\n",
      "\n",
      "T test results for ecs_32: statistic=11.814429603103067, p-value=3.287726384054822e-32\n",
      "There is a significant difference in the means of ecs_32\n",
      "\n",
      "T test results for rcs_1b: statistic=0.44317971284284957, p-value=0.6576357515861191\n",
      "There is no significant difference in means of rcs_1b\n",
      "\n",
      "T test results for rcs_21: statistic=-6.213124019852422, p-value=5.194142113112747e-10\n",
      "There is a significant difference in the means of rcs_21\n",
      "\n",
      "T test results for rcs_32: statistic=-6.363703813432729, p-value=1.969457543549905e-10\n",
      "There is a significant difference in the means of rcs_32\n",
      "\n"
     ]
    }
   ],
   "source": [
    "for i in asid.columns:\n",
    "    acol = asid[i]\n",
    "    bcol = bsid[i]\n",
    "    stat, p = ztest(acol,bcol)\n",
    "    print('T test results for {}: statistic={}, p-value={}'.format(i,stat,p))\n",
    "    if p>0.05:\n",
    "        print('There is no significant difference in means of {}'.format(i))\n",
    "        print()\n",
    "    else:\n",
    "        print('There is a significant difference in the means of {}'.format(i))\n",
    "        print()"
   ]
  },
  {
   "cell_type": "code",
   "execution_count": 53,
   "id": "d928599c",
   "metadata": {},
   "outputs": [
    {
     "data": {
      "text/plain": [
       "Text(0.5, 1.0, 'Third to Final')"
      ]
     },
     "execution_count": 53,
     "metadata": {},
     "output_type": "execute_result"
    },
    {
     "data": {
      "image/png": "[encoded data removed]",
      "text/plain": [
       "<Figure size 1600x1000 with 3 Axes>"
      ]
     },
     "metadata": {},
     "output_type": "display_data"
    }
   ],
   "source": [
    "fig, axes = plt.subplots(1, 3, figsize=(16, 10))\n",
    "sns.boxplot(y=df['delRCS1'],x=df['Treatment'],ax=axes[0])\n",
    "axes[0].set_title('First to second')\n",
    "\n",
    "sns.boxplot(y=df['delRCS2'],x=df['Treatment'],ax=axes[1])\n",
    "axes[1].set_title('Second to third')\n",
    "\n",
    "sns.boxplot(y=df['delRCS3'],x=df['Treatment'],ax=axes[2])\n",
    "axes[2].set_title('Third to Final')\n"
   ]
  },
  {
   "cell_type": "code",
   "execution_count": 54,
   "id": "b16a4231",
   "metadata": {},
   "outputs": [
    {
     "data": {
      "text/plain": [
       "Text(0.5, 1.0, 'Third to Final')"
      ]
     },
     "execution_count": 54,
     "metadata": {},
     "output_type": "execute_result"
    },
    {
     "data": {
      "image/png": "[encoded data removed]",
      "text/plain": [
       "<Figure size 1600x1000 with 3 Axes>"
      ]
     },
     "metadata": {},
     "output_type": "display_data"
    }
   ],
   "source": [
    "fig, axes = plt.subplots(1, 3, figsize=(16, 10))\n",
    "sns.boxplot(y=df['delUCS1'],x=df['Treatment'],ax=axes[0])\n",
    "axes[0].set_title('First to second')\n",
    "\n",
    "sns.boxplot(y=df['delUCS2'],x=df['Treatment'],ax=axes[1])\n",
    "axes[1].set_title('Second to third')\n",
    "\n",
    "sns.boxplot(y=df['delUCS3'],x=df['Treatment'],ax=axes[2])\n",
    "axes[2].set_title('Third to Final')\n"
   ]
  },
  {
   "cell_type": "code",
   "execution_count": 55,
   "id": "c10ae3de",
   "metadata": {},
   "outputs": [
    {
     "data": {
      "text/plain": [
       "Text(0.5, 1.0, 'Third to Final')"
      ]
     },
     "execution_count": 55,
     "metadata": {},
     "output_type": "execute_result"
    },
    {
     "data": {
      "image/png": "[encoded data removed]",
      "text/plain": [
       "<Figure size 1600x1000 with 3 Axes>"
      ]
     },
     "metadata": {},
     "output_type": "display_data"
    }
   ],
   "source": [
    "fig, axes = plt.subplots(1, 3, figsize=(16, 10))\n",
    "sns.boxplot(y=df['delECS1'],x=df['Treatment'],ax=axes[0])\n",
    "axes[0].set_title('First to second')\n",
    "\n",
    "sns.boxplot(y=df['delECS2'],x=df['Treatment'],ax=axes[1])\n",
    "axes[1].set_title('Second to third')\n",
    "\n",
    "sns.boxplot(y=df['delECS3'],x=df['Treatment'],ax=axes[2])\n",
    "axes[2].set_title('Third to Final')\n"
   ]
  },
  {
   "cell_type": "code",
   "execution_count": 56,
   "id": "edadba0c",
   "metadata": {},
   "outputs": [
    {
     "data": {
      "text/plain": [
       "<AxesSubplot:xlabel='Treatment', ylabel='ECS'>"
      ]
     },
     "execution_count": 56,
     "metadata": {},
     "output_type": "execute_result"
    },
    {
     "data": {
      "image/png": "[encoded data removed]",
      "text/plain": [
       "<Figure size 640x480 with 1 Axes>"
      ]
     },
     "metadata": {},
     "output_type": "display_data"
    }
   ],
   "source": [
    "sns.boxplot(y=df['ECS'],x=df['Treatment'])"
   ]
  },
  {
   "cell_type": "code",
   "execution_count": 57,
   "id": "5bf2c37d",
   "metadata": {},
   "outputs": [
    {
     "data": {
      "text/plain": [
       "<AxesSubplot:xlabel='Treatment', ylabel='ECS3'>"
      ]
     },
     "execution_count": 57,
     "metadata": {},
     "output_type": "execute_result"
    },
    {
     "data": {
      "image/png": "[encoded data removed]",
      "text/plain": [
       "<Figure size 640x480 with 1 Axes>"
      ]
     },
     "metadata": {},
     "output_type": "display_data"
    }
   ],
   "source": [
    "sns.boxplot(y=df['ECS3'],x=df['Treatment'])"
   ]
  },
  {
   "cell_type": "code",
   "execution_count": 58,
   "id": "c350090f",
   "metadata": {},
   "outputs": [
    {
     "data": {
      "text/plain": [
       "<AxesSubplot:xlabel='Treatment', ylabel='RCS3'>"
      ]
     },
     "execution_count": 58,
     "metadata": {},
     "output_type": "execute_result"
    },
    {
     "data": {
      "image/png": "[encoded data removed]",
      "text/plain": [
       "<Figure size 640x480 with 1 Axes>"
      ]
     },
     "metadata": {},
     "output_type": "display_data"
    }
   ],
   "source": [
    "sns.boxplot(y=df['RCS3'],x=df['Treatment'])"
   ]
  },
  {
   "cell_type": "code",
   "execution_count": 60,
   "id": "eb1986c5",
   "metadata": {},
   "outputs": [
    {
     "data": {
      "text/plain": [
       "<AxesSubplot:xlabel='Treatment', ylabel='RCS'>"
      ]
     },
     "execution_count": 60,
     "metadata": {},
     "output_type": "execute_result"
    },
    {
     "data": {
      "image/png": "[encoded data removed]",
      "text/plain": [
       "<Figure size 640x480 with 1 Axes>"
      ]
     },
     "metadata": {},
     "output_type": "display_data"
    }
   ],
   "source": [
    "sns.boxplot(y=df['RCS'],x=df['Treatment'])"
   ]
  },
  {
   "cell_type": "code",
   "execution_count": 61,
   "id": "521ad1b4",
   "metadata": {},
   "outputs": [
    {
     "data": {
      "text/plain": [
       "<AxesSubplot:xlabel='Treatment', ylabel='UCS'>"
      ]
     },
     "execution_count": 61,
     "metadata": {},
     "output_type": "execute_result"
    },
    {
     "data": {
      "image/png": "[encoded data removed]",
      "text/plain": [
       "<Figure size 640x480 with 1 Axes>"
      ]
     },
     "metadata": {},
     "output_type": "display_data"
    }
   ],
   "source": [
    "sns.boxplot(y=df['UCS'],x=df['Treatment'])"
   ]
  },
  {
   "cell_type": "code",
   "execution_count": 62,
   "id": "362b923c",
   "metadata": {},
   "outputs": [
    {
     "data": {
      "text/plain": [
       "<AxesSubplot:xlabel='Treatment', ylabel='UCS3'>"
      ]
     },
     "execution_count": 62,
     "metadata": {},
     "output_type": "execute_result"
    },
    {
     "data": {
      "image/png": "[encoded data removed]",
      "text/plain": [
       "<Figure size 640x480 with 1 Axes>"
      ]
     },
     "metadata": {},
     "output_type": "display_data"
    }
   ],
   "source": [
    "sns.boxplot(y=df['UCS3'],x=df['Treatment'])"
   ]
  },
  {
   "cell_type": "code",
   "execution_count": 68,
   "id": "f53f4500",
   "metadata": {},
   "outputs": [
    {
     "data": {
      "image/png": "[encoded data removed]",
      "text/plain": [
       "<Figure size 1600x1400 with 6 Axes>"
      ]
     },
     "metadata": {},
     "output_type": "display_data"
    }
   ],
   "source": [
    "fig, axes = plt.subplots(3, 2, figsize=(16, 14))\n",
    "axes=axes.flatten()\n",
    "sns.boxplot(y=df['ECS'],x=df['Treatment'],ax=axes[0])\n",
    "sns.boxplot(y=df['ECS3'],x=df['Treatment'],ax=axes[1])\n",
    "sns.boxplot(y=df['UCS'],x=df['Treatment'],ax=axes[2])\n",
    "sns.boxplot(y=df['UCS3'],x=df['Treatment'],ax=axes[3])\n",
    "sns.boxplot(y=df['RCS'],x=df['Treatment'],ax=axes[4])\n",
    "sns.boxplot(y=df['RCS3'],x=df['Treatment'],ax=axes[5])\n",
    "plt.savefig('triplebox.png')"
   ]
  },
  {
   "cell_type": "code",
   "execution_count": 74,
   "id": "033738d1",
   "metadata": {},
   "outputs": [
    {
     "data": {
      "image/png": "[encoded data removed]",
      "text/plain": [
       "<Figure size 640x480 with 1 Axes>"
      ]
     },
     "metadata": {},
     "output_type": "display_data"
    }
   ],
   "source": [
    "sns.boxplot(y=df['weight'],x=df['Treatment'])\n",
    "plt.savefig('weightbase.png')"
   ]
  },
  {
   "cell_type": "code",
   "execution_count": 73,
   "id": "f77c1e33",
   "metadata": {},
   "outputs": [
    {
     "data": {
      "text/plain": [
       "<AxesSubplot:xlabel='Treatment', ylabel='weight3'>"
      ]
     },
     "execution_count": 73,
     "metadata": {},
     "output_type": "execute_result"
    },
    {
     "data": {
      "image/png": "[encoded data removed]",
      "text/plain": [
       "<Figure size 640x480 with 1 Axes>"
      ]
     },
     "metadata": {},
     "output_type": "display_data"
    }
   ],
   "source": [
    "sns.boxplot(y=df['weight3'],x=df['Treatment'])"
   ]
  },
  {
   "cell_type": "code",
   "execution_count": null,
   "id": "329520b0",
   "metadata": {},
   "outputs": [],
   "source": [
    "From the matrix of box plots, it is clear that while ECS and UCS show the expected decreases in both treatments, RCS seems to show anomalous and contradictory results. It even seems to contradict the trends in weight. Also note, that the UCS and ECS values for treatment B seem to be lower than treatment A to begin with, implying that the patients receiving Treatment A has worse eating habits overall. This seems to imply that the separation of the 250 patients into treatments may have been random but did not result in a roughly uniform split, in terms of the UCS and RCS."
   ]
  }
 ],
 "metadata": {
  "kernelspec": {
   "display_name": "Python 3 (ipykernel)",
   "language": "python",
   "name": "python3"
  },
  "language_info": {
   "codemirror_mode": {
    "name": "ipython",
    "version": 3
   },
   "file_extension": ".py",
   "mimetype": "text/x-python",
   "name": "python",
   "nbconvert_exporter": "python",
   "pygments_lexer": "ipython3",
   "version": "3.9.13"
  }
 },
 "nbformat": 4,
 "nbformat_minor": 5
}
